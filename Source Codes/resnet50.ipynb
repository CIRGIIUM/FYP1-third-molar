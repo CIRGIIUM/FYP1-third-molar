{
  "nbformat": 4,
  "nbformat_minor": 0,
  "metadata": {
    "colab": {
      "provenance": []
    },
    "kernelspec": {
      "name": "python3",
      "display_name": "Python 3"
    },
    "language_info": {
      "name": "python"
    }
  },
  "cells": [
    {
      "cell_type": "code",
      "execution_count": null,
      "metadata": {
        "id": "XFInKXGwWl2x"
      },
      "outputs": [],
      "source": [
        "import tensorflow as tf\n",
        "from pathlib import Path\n",
        "import os\n",
        "import numpy as np\n",
        "from sklearn.preprocessing import LabelEncoder\n",
        "from sklearn.model_selection import train_test_split\n",
        "from tensorflow.python.keras.utils.np_utils import to_categorical\n",
        "from keras.applications.resnet50 import ResNet50\n",
        "from keras.applications.vgg16 import VGG16\n",
        "from keras.callbacks import ReduceLROnPlateau\n",
        "from keras.models import Sequential\n",
        "from keras import layers\n",
        "from keras.optimizers import RMSprop\n",
        "import matplotlib.pyplot as plt\n",
        "from keras.layers import Input\n",
        "from sklearn.metrics import confusion_matrix, classification_report, roc_auc_score\n",
        "import seaborn as sns\n",
        "from tensorflow import keras as K"
      ]
    },
    {
      "cell_type": "code",
      "source": [
        "#os.environ['TF_GPU_ALLOCATOR'] = 'cuda_malloc_async'\n",
        "gpus = tf.config.experimental.list_physical_devices('GPU')\n",
        "for gpu in gpus:\n",
        "    tf.config.experimental.set_memory_growth(gpu, True)\n",
        "print(tf.config.list_physical_devices('GPU'))"
      ],
      "metadata": {
        "colab": {
          "base_uri": "https://localhost:8080/"
        },
        "id": "87FgmhkhXFzH",
        "outputId": "f91c5a1f-ace1-4a19-8a0e-c829fc13dab9"
      },
      "execution_count": null,
      "outputs": [
        {
          "output_type": "stream",
          "name": "stdout",
          "text": [
            "[]\n"
          ]
        }
      ]
    },
    {
      "cell_type": "code",
      "source": [
        "def load_dataset(dataset_path):\n",
        "    data = []\n",
        "    labels = []\n",
        "    class_names=['distoangular','horizontal','mesioangular','transverse','vertical']\n",
        "\n",
        "    for class_name in class_names:\n",
        "        # class_path = dataset_path / class_name\n",
        "        class_path = os.path.join(dataset_dir, class_name)\n",
        "        label_encoder = LabelEncoder()\n",
        "        class_path = Path(class_path)\n",
        "        image_paths = (list(class_path.glob(\"*.[jJ][pP][gG]\")) + list(class_path.glob(\"*.[pP][nN][gG]\"))) + list(class_path.glob(\"*.bmp\"))\n",
        "\n",
        "        for image_path in image_paths:\n",
        "            image = tf.io.read_file(str(image_path))\n",
        "            image_extension = image_path.suffix.lower()\n",
        "            if image_extension == '.jpeg' or image_extension == '.jpg':\n",
        "                image = tf.image.decode_jpeg(image, channels=3)\n",
        "            elif image_extension == '.png':\n",
        "                image = tf.image.decode_png(image, channels=3)\n",
        "            elif image_extension == '.bmp':\n",
        "                image = tf.image.decode_bmp(image)\n",
        "            else:\n",
        "                raise ValueError(f\"Unsupported image format: {image_extension}\")\n",
        "\n",
        "            # image = tf.image.decode_jpeg(image, channels=3)\n",
        "            image = tf.image.resize(image, (128,128))\n",
        "            data.append(image)\n",
        "            labels.append(class_name)\n",
        "\n",
        "    data = tf.stack(data)\n",
        "    # Use the label encoder to transform class names to integers\n",
        "    labels = label_encoder.fit_transform(labels)\n",
        "\n",
        "    return data, labels\n",
        "\n",
        "dataset_dir=r\"/content/drive/MyDrive/FYP 1/thirdmolar_dataset/left\"\n",
        "\n",
        "data, labels = load_dataset(dataset_dir)\n",
        "custom_dataset = tf.data.Dataset.from_tensor_slices((data, labels))\n",
        "\n",
        "#to confirm the data availability and size\n",
        "print(data.shape)\n",
        "print(len(custom_dataset))\n",
        "\n",
        "# Split the data into training and testing sets\n",
        "x_train, x_test, y_train, y_test = train_test_split(np.array(data), np.array(labels), test_size=0.1, random_state=42)\n",
        "\n",
        "# Set validation ratio\n",
        "VALID_PERCENT = 0.2\n",
        "split_on = int((1 - VALID_PERCENT) * len(x_train))\n",
        "\n",
        "train_images = x_train[0:split_on,:,:]\n",
        "train_labels = to_categorical(y_train, num_classes=5)[0:split_on,:]\n",
        "\n",
        "valid_images = x_train[split_on:,:,:]\n",
        "valid_labels = to_categorical(y_train, num_classes=5)[split_on:,:]\n",
        "\n",
        "test_images = x_test\n",
        "test_labels = to_categorical(y_test, num_classes=5)\n",
        "\n",
        "# Rescale images\n",
        "def preprocess(images):\n",
        "  rescaled_images=images/255\n",
        "  return rescaled_images\n",
        "\n",
        "train_img=preprocess(train_images)\n",
        "valid_img=preprocess(valid_images)\n",
        "test_img=preprocess(test_images)\n",
        "\n",
        "print(np.unique(labels), np.unique(train_labels), np.unique(test_labels), np.unique(valid_labels))\n",
        "\n",
        "IMG_SIZE=(128, 128)\n",
        "NUM_CLASSES=5\n",
        "input_t=K.Input(shape=(128,128, 3))\n",
        "\n",
        "# load base model\n",
        "resnet50_weight_path = r\"/content/drive/MyDrive/FYP 1/thirdmolar_dataset/Pretrained Model/resnet50_weights_tf_dim_ordering_tf_kernels_notop.h5\"\n",
        "\n",
        "resnet = ResNet50(\n",
        "    # weights=resnet50_weight_path,\n",
        "    weights=\"imagenet\",\n",
        "    include_top=False,\n",
        "    input_tensor=input_t\n",
        ")\n",
        "\n",
        "for layer in resnet.layers[:143]:\n",
        "    layer.trainable=False   # layers freeze\n",
        "\n",
        "resnet50 = K.models.Sequential()\n",
        "resnet50.add(resnet)\n",
        "resnet50.add(layers.Dropout(0.5))\n",
        "resnet50.add(layers.Flatten())\n",
        "resnet50.add(layers.Dropout(0.6))\n",
        "resnet50.add(layers.Dense(NUM_CLASSES, activation='softmax'))\n",
        "\n",
        "resnet50.compile(optimizer = RMSprop(lr=1e-5),\n",
        "              loss = \"categorical_crossentropy\",\n",
        "              metrics=[\"accuracy\"])\n",
        "\n",
        "resnet50.summary()\n",
        "\n",
        "learning_rate_reduction= ReduceLROnPlateau(monitor='val_acc',\n",
        "                                            patience=5,\n",
        "                                            verbose=1,\n",
        "                                            factor=0.5,\n",
        "                                            min_lr=1e-7)\n",
        "\n",
        "resnet50_history=resnet50.fit(train_img, train_labels, validation_data=(test_img, test_labels), batch_size=32, epochs=100, verbose=1, shuffle=True, callbacks=[learning_rate_reduction])\n",
        "\n",
        "val_loss, val_acc = resnet50.evaluate(valid_img, valid_labels, verbose=2)\n",
        "print('\\nVal accuracy:', val_acc)\n",
        "print('Val loss:', val_loss)\n",
        "\n",
        "train_loss, train_acc = resnet50.evaluate(train_img, train_labels, verbose=2)\n",
        "print('\\nTrain accuracy:', train_acc)\n",
        "print('Train loss:', train_loss)\n",
        "\n",
        "# Testing model on test data to evaluate\n",
        "val_pred = resnet50.predict(valid_img)\n",
        "print(classification_report(np.argmax(valid_labels, axis=1), np.argmax(val_pred, axis=1)))\n",
        "\n",
        "cm=confusion_matrix(np.argmax(valid_labels, axis=1), np.argmax(val_pred, axis=1))\n",
        "print(cm)\n",
        "\n",
        "# Graph for accuracy and loss\n",
        "def plotgraph(history, model, img, label, a, b, c):\n",
        "    plt.plot(history.history[a])\n",
        "    plt.plot(history.history[b])\n",
        "    plt.title(c)\n",
        "    plt.ylabel(a)\n",
        "    plt.xlabel('epoch')\n",
        "    plt.legend(['train', 'val'], loc='upper left')\n",
        "    plt.show()\n",
        "\n",
        "plotgraph(resnet50_history, resnet50, test_img, test_labels, 'accuracy', 'val_accuracy', 'model_accuracy') #accuracy\n",
        "plotgraph(resnet50_history, resnet50, test_img, test_labels, 'loss', 'val_loss', 'model loss') #loss\n",
        "\n",
        "# AUC Score\n",
        "auc = roc_auc_score(valid_labels, val_pred)\n",
        "print('AUC:', auc)\n",
        "\n",
        "# Confusion matrix\n",
        "sns.heatmap(cm,\n",
        "            annot=True,\n",
        "            fmt='g',\n",
        "            xticklabels=['distoangular','horizontal','mesioangular','transverse','vertical'],\n",
        "            yticklabels=['distoangular','horizontal','mesioangular','transverse','vertical'])\n",
        "plt.ylabel('Actual',fontsize=13)\n",
        "plt.xlabel('Predicted',fontsize=13)\n",
        "plt.title('Confusion Matrix',fontsize=17)\n",
        "plt.show()"
      ],
      "metadata": {
        "colab": {
          "base_uri": "https://localhost:8080/",
          "height": 1000
        },
        "id": "Sbh76tkxXIUN",
        "outputId": "4b1a3c07-1e6d-4a83-bf9d-8a3a59c11b49"
      },
      "execution_count": null,
      "outputs": [
        {
          "metadata": {
            "tags": null
          },
          "name": "stdout",
          "output_type": "stream",
          "text": [
            "(493, 128, 128, 3)\n",
            "493\n",
            "[0 1 2 3 4] [0. 1.] [0. 1.] [0. 1.]\n",
            "Downloading data from https://storage.googleapis.com/tensorflow/keras-applications/resnet/resnet50_weights_tf_dim_ordering_tf_kernels_notop.h5\n",
            "94765736/94765736 [==============================] - 1s 0us/step\n"
          ]
        },
        {
          "metadata": {
            "tags": null
          },
          "name": "stderr",
          "output_type": "stream",
          "text": [
            "WARNING:absl:`lr` is deprecated in Keras optimizer, please use `learning_rate` or use the legacy optimizer, e.g.,tf.keras.optimizers.legacy.RMSprop.\n"
          ]
        },
        {
          "metadata": {
            "tags": null
          },
          "name": "stdout",
          "output_type": "stream",
          "text": [
            "Model: \"sequential\"\n",
            "_________________________________________________________________\n",
            " Layer (type)                Output Shape              Param #   \n",
            "=================================================================\n",
            " resnet50 (Functional)       (None, 4, 4, 2048)        23587712  \n",
            "                                                                 \n",
            " dropout (Dropout)           (None, 4, 4, 2048)        0         \n",
            "                                                                 \n",
            " flatten (Flatten)           (None, 32768)             0         \n",
            "                                                                 \n",
            " dropout_1 (Dropout)         (None, 32768)             0         \n",
            "                                                                 \n",
            " dense (Dense)               (None, 5)                 163845    \n",
            "                                                                 \n",
            "=================================================================\n",
            "Total params: 23751557 (90.60 MB)\n",
            "Trainable params: 15139845 (57.75 MB)\n",
            "Non-trainable params: 8611712 (32.85 MB)\n",
            "_________________________________________________________________\n",
            "Epoch 1/100\n",
            "12/12 [==============================] - ETA: 0s - loss: 30.4214 - accuracy: 0.2062"
          ]
        },
        {
          "metadata": {
            "tags": null
          },
          "name": "stderr",
          "output_type": "stream",
          "text": [
            "WARNING:tensorflow:Learning rate reduction is conditioned on metric `val_acc` which is not available. Available metrics are: loss,accuracy,val_loss,val_accuracy,lr\n"
          ]
        },
        {
          "metadata": {
            "tags": null
          },
          "name": "stdout",
          "output_type": "stream",
          "text": [
            "12/12 [==============================] - 70s 5s/step - loss: 30.4214 - accuracy: 0.2062 - val_loss: 66.9999 - val_accuracy: 0.3400 - lr: 0.0010\n",
            "Epoch 2/100\n",
            "12/12 [==============================] - ETA: 0s - loss: 10.6369 - accuracy: 0.2881"
          ]
        },
        {
          "metadata": {
            "tags": null
          },
          "name": "stderr",
          "output_type": "stream",
          "text": [
            "WARNING:tensorflow:Learning rate reduction is conditioned on metric `val_acc` which is not available. Available metrics are: loss,accuracy,val_loss,val_accuracy,lr\n"
          ]
        },
        {
          "metadata": {
            "tags": null
          },
          "name": "stdout",
          "output_type": "stream",
          "text": [
            "12/12 [==============================] - 45s 4s/step - loss: 10.6369 - accuracy: 0.2881 - val_loss: 843.0847 - val_accuracy: 0.3000 - lr: 0.0010\n",
            "Epoch 3/100\n",
            "12/12 [==============================] - ETA: 0s - loss: 8.9176 - accuracy: 0.2401"
          ]
        },
        {
          "metadata": {
            "tags": null
          },
          "name": "stderr",
          "output_type": "stream",
          "text": [
            "WARNING:tensorflow:Learning rate reduction is conditioned on metric `val_acc` which is not available. Available metrics are: loss,accuracy,val_loss,val_accuracy,lr\n"
          ]
        },
        {
          "metadata": {
            "tags": null
          },
          "name": "stdout",
          "output_type": "stream",
          "text": [
            "12/12 [==============================] - 47s 4s/step - loss: 8.9176 - accuracy: 0.2401 - val_loss: 1271.2555 - val_accuracy: 0.3400 - lr: 0.0010\n",
            "Epoch 4/100\n",
            "12/12 [==============================] - ETA: 0s - loss: 7.9881 - accuracy: 0.2684"
          ]
        },
        {
          "metadata": {
            "tags": null
          },
          "name": "stderr",
          "output_type": "stream",
          "text": [
            "WARNING:tensorflow:Learning rate reduction is conditioned on metric `val_acc` which is not available. Available metrics are: loss,accuracy,val_loss,val_accuracy,lr\n"
          ]
        },
        {
          "metadata": {
            "tags": null
          },
          "name": "stdout",
          "output_type": "stream",
          "text": [
            "12/12 [==============================] - 42s 4s/step - loss: 7.9881 - accuracy: 0.2684 - val_loss: 7462.4575 - val_accuracy: 0.3000 - lr: 0.0010\n",
            "Epoch 5/100\n",
            "12/12 [==============================] - ETA: 0s - loss: 5.2735 - accuracy: 0.3277"
          ]
        },
        {
          "metadata": {
            "tags": null
          },
          "name": "stderr",
          "output_type": "stream",
          "text": [
            "WARNING:tensorflow:Learning rate reduction is conditioned on metric `val_acc` which is not available. Available metrics are: loss,accuracy,val_loss,val_accuracy,lr\n"
          ]
        },
        {
          "metadata": {
            "tags": null
          },
          "name": "stdout",
          "output_type": "stream",
          "text": [
            "12/12 [==============================] - 44s 4s/step - loss: 5.2735 - accuracy: 0.3277 - val_loss: 7388.0601 - val_accuracy: 0.1200 - lr: 0.0010\n",
            "Epoch 6/100\n",
            "12/12 [==============================] - ETA: 0s - loss: 6.6057 - accuracy: 0.3136"
          ]
        },
        {
          "metadata": {
            "tags": null
          },
          "name": "stderr",
          "output_type": "stream",
          "text": [
            "WARNING:tensorflow:Learning rate reduction is conditioned on metric `val_acc` which is not available. Available metrics are: loss,accuracy,val_loss,val_accuracy,lr\n"
          ]
        },
        {
          "metadata": {
            "tags": null
          },
          "name": "stdout",
          "output_type": "stream",
          "text": [
            "12/12 [==============================] - 44s 4s/step - loss: 6.6057 - accuracy: 0.3136 - val_loss: 8454.9053 - val_accuracy: 0.2000 - lr: 0.0010\n",
            "Epoch 7/100\n",
            "12/12 [==============================] - ETA: 0s - loss: 5.4862 - accuracy: 0.3079"
          ]
        },
        {
          "metadata": {
            "tags": null
          },
          "name": "stderr",
          "output_type": "stream",
          "text": [
            "WARNING:tensorflow:Learning rate reduction is conditioned on metric `val_acc` which is not available. Available metrics are: loss,accuracy,val_loss,val_accuracy,lr\n"
          ]
        },
        {
          "metadata": {
            "tags": null
          },
          "name": "stdout",
          "output_type": "stream",
          "text": [
            "12/12 [==============================] - 43s 4s/step - loss: 5.4862 - accuracy: 0.3079 - val_loss: 1792.7596 - val_accuracy: 0.3400 - lr: 0.0010\n",
            "Epoch 8/100\n",
            "12/12 [==============================] - ETA: 0s - loss: 4.7756 - accuracy: 0.3220"
          ]
        },
        {
          "metadata": {
            "tags": null
          },
          "name": "stderr",
          "output_type": "stream",
          "text": [
            "WARNING:tensorflow:Learning rate reduction is conditioned on metric `val_acc` which is not available. Available metrics are: loss,accuracy,val_loss,val_accuracy,lr\n"
          ]
        },
        {
          "metadata": {
            "tags": null
          },
          "name": "stdout",
          "output_type": "stream",
          "text": [
            "12/12 [==============================] - 47s 4s/step - loss: 4.7756 - accuracy: 0.3220 - val_loss: 1063.9093 - val_accuracy: 0.2000 - lr: 0.0010\n",
            "Epoch 9/100\n",
            "12/12 [==============================] - ETA: 0s - loss: 4.5475 - accuracy: 0.2994"
          ]
        },
        {
          "metadata": {
            "tags": null
          },
          "name": "stderr",
          "output_type": "stream",
          "text": [
            "WARNING:tensorflow:Learning rate reduction is conditioned on metric `val_acc` which is not available. Available metrics are: loss,accuracy,val_loss,val_accuracy,lr\n"
          ]
        },
        {
          "metadata": {
            "tags": null
          },
          "name": "stdout",
          "output_type": "stream",
          "text": [
            "12/12 [==============================] - 45s 4s/step - loss: 4.5475 - accuracy: 0.2994 - val_loss: 8601.9375 - val_accuracy: 0.2000 - lr: 0.0010\n",
            "Epoch 10/100\n",
            "12/12 [==============================] - ETA: 0s - loss: 7.2278 - accuracy: 0.2542"
          ]
        },
        {
          "metadata": {
            "tags": null
          },
          "name": "stderr",
          "output_type": "stream",
          "text": [
            "WARNING:tensorflow:Learning rate reduction is conditioned on metric `val_acc` which is not available. Available metrics are: loss,accuracy,val_loss,val_accuracy,lr\n"
          ]
        },
        {
          "metadata": {
            "tags": null
          },
          "name": "stdout",
          "output_type": "stream",
          "text": [
            "12/12 [==============================] - 45s 4s/step - loss: 7.2278 - accuracy: 0.2542 - val_loss: 4702.1245 - val_accuracy: 0.3400 - lr: 0.0010\n",
            "Epoch 11/100\n",
            "12/12 [==============================] - ETA: 0s - loss: 3.4681 - accuracy: 0.3164"
          ]
        },
        {
          "metadata": {
            "tags": null
          },
          "name": "stderr",
          "output_type": "stream",
          "text": [
            "WARNING:tensorflow:Learning rate reduction is conditioned on metric `val_acc` which is not available. Available metrics are: loss,accuracy,val_loss,val_accuracy,lr\n"
          ]
        },
        {
          "metadata": {
            "tags": null
          },
          "name": "stdout",
          "output_type": "stream",
          "text": [
            "12/12 [==============================] - 45s 4s/step - loss: 3.4681 - accuracy: 0.3164 - val_loss: 1362.0737 - val_accuracy: 0.3400 - lr: 0.0010\n",
            "Epoch 12/100\n",
            "12/12 [==============================] - ETA: 0s - loss: 5.4851 - accuracy: 0.3192"
          ]
        },
        {
          "metadata": {
            "tags": null
          },
          "name": "stderr",
          "output_type": "stream",
          "text": [
            "WARNING:tensorflow:Learning rate reduction is conditioned on metric `val_acc` which is not available. Available metrics are: loss,accuracy,val_loss,val_accuracy,lr\n"
          ]
        },
        {
          "metadata": {
            "tags": null
          },
          "name": "stdout",
          "output_type": "stream",
          "text": [
            "12/12 [==============================] - 43s 4s/step - loss: 5.4851 - accuracy: 0.3192 - val_loss: 4949.1401 - val_accuracy: 0.3400 - lr: 0.0010\n",
            "Epoch 13/100\n",
            "12/12 [==============================] - ETA: 0s - loss: 5.0759 - accuracy: 0.2655"
          ]
        },
        {
          "metadata": {
            "tags": null
          },
          "name": "stderr",
          "output_type": "stream",
          "text": [
            "WARNING:tensorflow:Learning rate reduction is conditioned on metric `val_acc` which is not available. Available metrics are: loss,accuracy,val_loss,val_accuracy,lr\n"
          ]
        },
        {
          "metadata": {
            "tags": null
          },
          "name": "stdout",
          "output_type": "stream",
          "text": [
            "12/12 [==============================] - 47s 4s/step - loss: 5.0759 - accuracy: 0.2655 - val_loss: 2327.2520 - val_accuracy: 0.3400 - lr: 0.0010\n",
            "Epoch 14/100\n",
            "12/12 [==============================] - ETA: 0s - loss: 4.4007 - accuracy: 0.2938"
          ]
        },
        {
          "metadata": {
            "tags": null
          },
          "name": "stderr",
          "output_type": "stream",
          "text": [
            "WARNING:tensorflow:Learning rate reduction is conditioned on metric `val_acc` which is not available. Available metrics are: loss,accuracy,val_loss,val_accuracy,lr\n"
          ]
        },
        {
          "metadata": {
            "tags": null
          },
          "name": "stdout",
          "output_type": "stream",
          "text": [
            "12/12 [==============================] - 49s 4s/step - loss: 4.4007 - accuracy: 0.2938 - val_loss: 1609.8923 - val_accuracy: 0.3400 - lr: 0.0010\n",
            "Epoch 15/100\n",
            "12/12 [==============================] - ETA: 0s - loss: 4.1248 - accuracy: 0.3475"
          ]
        },
        {
          "metadata": {
            "tags": null
          },
          "name": "stderr",
          "output_type": "stream",
          "text": [
            "WARNING:tensorflow:Learning rate reduction is conditioned on metric `val_acc` which is not available. Available metrics are: loss,accuracy,val_loss,val_accuracy,lr\n"
          ]
        },
        {
          "metadata": {
            "tags": null
          },
          "name": "stdout",
          "output_type": "stream",
          "text": [
            "12/12 [==============================] - 45s 4s/step - loss: 4.1248 - accuracy: 0.3475 - val_loss: 202.7523 - val_accuracy: 0.3400 - lr: 0.0010\n",
            "Epoch 16/100\n",
            "12/12 [==============================] - ETA: 0s - loss: 4.1567 - accuracy: 0.3220"
          ]
        },
        {
          "metadata": {
            "tags": null
          },
          "name": "stderr",
          "output_type": "stream",
          "text": [
            "WARNING:tensorflow:Learning rate reduction is conditioned on metric `val_acc` which is not available. Available metrics are: loss,accuracy,val_loss,val_accuracy,lr\n"
          ]
        },
        {
          "metadata": {
            "tags": null
          },
          "name": "stdout",
          "output_type": "stream",
          "text": [
            "12/12 [==============================] - 46s 4s/step - loss: 4.1567 - accuracy: 0.3220 - val_loss: 367.6460 - val_accuracy: 0.3400 - lr: 0.0010\n",
            "Epoch 17/100\n",
            "12/12 [==============================] - ETA: 0s - loss: 4.8298 - accuracy: 0.3249"
          ]
        },
        {
          "metadata": {
            "tags": null
          },
          "name": "stderr",
          "output_type": "stream",
          "text": [
            "WARNING:tensorflow:Learning rate reduction is conditioned on metric `val_acc` which is not available. Available metrics are: loss,accuracy,val_loss,val_accuracy,lr\n"
          ]
        },
        {
          "metadata": {
            "tags": null
          },
          "name": "stdout",
          "output_type": "stream",
          "text": [
            "12/12 [==============================] - 47s 4s/step - loss: 4.8298 - accuracy: 0.3249 - val_loss: 199.2325 - val_accuracy: 0.3400 - lr: 0.0010\n",
            "Epoch 18/100\n",
            "12/12 [==============================] - ETA: 0s - loss: 3.6051 - accuracy: 0.3051"
          ]
        },
        {
          "metadata": {
            "tags": null
          },
          "name": "stderr",
          "output_type": "stream",
          "text": [
            "WARNING:tensorflow:Learning rate reduction is conditioned on metric `val_acc` which is not available. Available metrics are: loss,accuracy,val_loss,val_accuracy,lr\n"
          ]
        },
        {
          "metadata": {
            "tags": null
          },
          "name": "stdout",
          "output_type": "stream",
          "text": [
            "12/12 [==============================] - 47s 4s/step - loss: 3.6051 - accuracy: 0.3051 - val_loss: 529.8326 - val_accuracy: 0.3400 - lr: 0.0010\n",
            "Epoch 19/100\n",
            "12/12 [==============================] - ETA: 0s - loss: 3.9258 - accuracy: 0.2768"
          ]
        },
        {
          "metadata": {
            "tags": null
          },
          "name": "stderr",
          "output_type": "stream",
          "text": [
            "WARNING:tensorflow:Learning rate reduction is conditioned on metric `val_acc` which is not available. Available metrics are: loss,accuracy,val_loss,val_accuracy,lr\n"
          ]
        },
        {
          "metadata": {
            "tags": null
          },
          "name": "stdout",
          "output_type": "stream",
          "text": [
            "12/12 [==============================] - 45s 4s/step - loss: 3.9258 - accuracy: 0.2768 - val_loss: 59.4643 - val_accuracy: 0.3400 - lr: 0.0010\n",
            "Epoch 20/100\n",
            "12/12 [==============================] - ETA: 0s - loss: 4.0602 - accuracy: 0.3192"
          ]
        },
        {
          "metadata": {
            "tags": null
          },
          "name": "stderr",
          "output_type": "stream",
          "text": [
            "WARNING:tensorflow:Learning rate reduction is conditioned on metric `val_acc` which is not available. Available metrics are: loss,accuracy,val_loss,val_accuracy,lr\n"
          ]
        },
        {
          "metadata": {
            "tags": null
          },
          "name": "stdout",
          "output_type": "stream",
          "text": [
            "12/12 [==============================] - 45s 4s/step - loss: 4.0602 - accuracy: 0.3192 - val_loss: 108.6752 - val_accuracy: 0.3400 - lr: 0.0010\n",
            "Epoch 21/100\n",
            "12/12 [==============================] - ETA: 0s - loss: 4.0604 - accuracy: 0.3277"
          ]
        },
        {
          "metadata": {
            "tags": null
          },
          "name": "stderr",
          "output_type": "stream",
          "text": [
            "WARNING:tensorflow:Learning rate reduction is conditioned on metric `val_acc` which is not available. Available metrics are: loss,accuracy,val_loss,val_accuracy,lr\n"
          ]
        },
        {
          "metadata": {
            "tags": null
          },
          "name": "stdout",
          "output_type": "stream",
          "text": [
            "12/12 [==============================] - 45s 4s/step - loss: 4.0604 - accuracy: 0.3277 - val_loss: 84.0518 - val_accuracy: 0.2000 - lr: 0.0010\n",
            "Epoch 22/100\n",
            "12/12 [==============================] - ETA: 0s - loss: 4.5486 - accuracy: 0.3079"
          ]
        },
        {
          "metadata": {
            "tags": null
          },
          "name": "stderr",
          "output_type": "stream",
          "text": [
            "WARNING:tensorflow:Learning rate reduction is conditioned on metric `val_acc` which is not available. Available metrics are: loss,accuracy,val_loss,val_accuracy,lr\n"
          ]
        },
        {
          "metadata": {
            "tags": null
          },
          "name": "stdout",
          "output_type": "stream",
          "text": [
            "12/12 [==============================] - 46s 4s/step - loss: 4.5486 - accuracy: 0.3079 - val_loss: 86.5111 - val_accuracy: 0.3400 - lr: 0.0010\n",
            "Epoch 23/100\n",
            "12/12 [==============================] - ETA: 0s - loss: 4.4696 - accuracy: 0.2966"
          ]
        },
        {
          "metadata": {
            "tags": null
          },
          "name": "stderr",
          "output_type": "stream",
          "text": [
            "WARNING:tensorflow:Learning rate reduction is conditioned on metric `val_acc` which is not available. Available metrics are: loss,accuracy,val_loss,val_accuracy,lr\n"
          ]
        },
        {
          "metadata": {
            "tags": null
          },
          "name": "stdout",
          "output_type": "stream",
          "text": [
            "12/12 [==============================] - 47s 4s/step - loss: 4.4696 - accuracy: 0.2966 - val_loss: 25.5094 - val_accuracy: 0.3400 - lr: 0.0010\n",
            "Epoch 24/100\n",
            "12/12 [==============================] - ETA: 0s - loss: 4.0184 - accuracy: 0.3390"
          ]
        },
        {
          "metadata": {
            "tags": null
          },
          "name": "stderr",
          "output_type": "stream",
          "text": [
            "WARNING:tensorflow:Learning rate reduction is conditioned on metric `val_acc` which is not available. Available metrics are: loss,accuracy,val_loss,val_accuracy,lr\n"
          ]
        },
        {
          "metadata": {
            "tags": null
          },
          "name": "stdout",
          "output_type": "stream",
          "text": [
            "12/12 [==============================] - 47s 4s/step - loss: 4.0184 - accuracy: 0.3390 - val_loss: 243.7271 - val_accuracy: 0.3000 - lr: 0.0010\n",
            "Epoch 25/100\n",
            "12/12 [==============================] - ETA: 0s - loss: 4.4373 - accuracy: 0.2994"
          ]
        },
        {
          "metadata": {
            "tags": null
          },
          "name": "stderr",
          "output_type": "stream",
          "text": [
            "WARNING:tensorflow:Learning rate reduction is conditioned on metric `val_acc` which is not available. Available metrics are: loss,accuracy,val_loss,val_accuracy,lr\n"
          ]
        },
        {
          "metadata": {
            "tags": null
          },
          "name": "stdout",
          "output_type": "stream",
          "text": [
            "12/12 [==============================] - 45s 4s/step - loss: 4.4373 - accuracy: 0.2994 - val_loss: 87.0042 - val_accuracy: 0.1800 - lr: 0.0010\n",
            "Epoch 26/100\n",
            "12/12 [==============================] - ETA: 0s - loss: 3.9272 - accuracy: 0.2768"
          ]
        },
        {
          "metadata": {
            "tags": null
          },
          "name": "stderr",
          "output_type": "stream",
          "text": [
            "WARNING:tensorflow:Learning rate reduction is conditioned on metric `val_acc` which is not available. Available metrics are: loss,accuracy,val_loss,val_accuracy,lr\n"
          ]
        },
        {
          "metadata": {
            "tags": null
          },
          "name": "stdout",
          "output_type": "stream",
          "text": [
            "12/12 [==============================] - 42s 4s/step - loss: 3.9272 - accuracy: 0.2768 - val_loss: 370.1441 - val_accuracy: 0.3400 - lr: 0.0010\n",
            "Epoch 27/100\n",
            "12/12 [==============================] - ETA: 0s - loss: 3.3715 - accuracy: 0.3107"
          ]
        },
        {
          "metadata": {
            "tags": null
          },
          "name": "stderr",
          "output_type": "stream",
          "text": [
            "WARNING:tensorflow:Learning rate reduction is conditioned on metric `val_acc` which is not available. Available metrics are: loss,accuracy,val_loss,val_accuracy,lr\n"
          ]
        },
        {
          "metadata": {
            "tags": null
          },
          "name": "stdout",
          "output_type": "stream",
          "text": [
            "12/12 [==============================] - 47s 4s/step - loss: 3.3715 - accuracy: 0.3107 - val_loss: 1026.5153 - val_accuracy: 0.3400 - lr: 0.0010\n",
            "Epoch 28/100\n",
            "12/12 [==============================] - ETA: 0s - loss: 4.1098 - accuracy: 0.3023"
          ]
        },
        {
          "metadata": {
            "tags": null
          },
          "name": "stderr",
          "output_type": "stream",
          "text": [
            "WARNING:tensorflow:Learning rate reduction is conditioned on metric `val_acc` which is not available. Available metrics are: loss,accuracy,val_loss,val_accuracy,lr\n"
          ]
        },
        {
          "metadata": {
            "tags": null
          },
          "name": "stdout",
          "output_type": "stream",
          "text": [
            "12/12 [==============================] - 47s 4s/step - loss: 4.1098 - accuracy: 0.3023 - val_loss: 1038.2191 - val_accuracy: 0.1800 - lr: 0.0010\n",
            "Epoch 29/100\n",
            "12/12 [==============================] - ETA: 0s - loss: 3.5765 - accuracy: 0.3220"
          ]
        },
        {
          "metadata": {
            "tags": null
          },
          "name": "stderr",
          "output_type": "stream",
          "text": [
            "WARNING:tensorflow:Learning rate reduction is conditioned on metric `val_acc` which is not available. Available metrics are: loss,accuracy,val_loss,val_accuracy,lr\n"
          ]
        },
        {
          "metadata": {
            "tags": null
          },
          "name": "stdout",
          "output_type": "stream",
          "text": [
            "12/12 [==============================] - 45s 4s/step - loss: 3.5765 - accuracy: 0.3220 - val_loss: 898.4150 - val_accuracy: 0.3400 - lr: 0.0010\n",
            "Epoch 30/100\n",
            "12/12 [==============================] - ETA: 0s - loss: 4.0964 - accuracy: 0.2740"
          ]
        },
        {
          "metadata": {
            "tags": null
          },
          "name": "stderr",
          "output_type": "stream",
          "text": [
            "WARNING:tensorflow:Learning rate reduction is conditioned on metric `val_acc` which is not available. Available metrics are: loss,accuracy,val_loss,val_accuracy,lr\n"
          ]
        },
        {
          "metadata": {
            "tags": null
          },
          "name": "stdout",
          "output_type": "stream",
          "text": [
            "12/12 [==============================] - 45s 4s/step - loss: 4.0964 - accuracy: 0.2740 - val_loss: 409.5792 - val_accuracy: 0.3400 - lr: 0.0010\n",
            "Epoch 31/100\n",
            "12/12 [==============================] - ETA: 0s - loss: 3.0474 - accuracy: 0.3023"
          ]
        },
        {
          "metadata": {
            "tags": null
          },
          "name": "stderr",
          "output_type": "stream",
          "text": [
            "WARNING:tensorflow:Learning rate reduction is conditioned on metric `val_acc` which is not available. Available metrics are: loss,accuracy,val_loss,val_accuracy,lr\n"
          ]
        },
        {
          "metadata": {
            "tags": null
          },
          "name": "stdout",
          "output_type": "stream",
          "text": [
            "12/12 [==============================] - 46s 4s/step - loss: 3.0474 - accuracy: 0.3023 - val_loss: 671.9977 - val_accuracy: 0.3400 - lr: 0.0010\n",
            "Epoch 32/100\n",
            "12/12 [==============================] - ETA: 0s - loss: 3.9877 - accuracy: 0.3249"
          ]
        },
        {
          "metadata": {
            "tags": null
          },
          "name": "stderr",
          "output_type": "stream",
          "text": [
            "WARNING:tensorflow:Learning rate reduction is conditioned on metric `val_acc` which is not available. Available metrics are: loss,accuracy,val_loss,val_accuracy,lr\n"
          ]
        },
        {
          "metadata": {
            "tags": null
          },
          "name": "stdout",
          "output_type": "stream",
          "text": [
            "12/12 [==============================] - 47s 4s/step - loss: 3.9877 - accuracy: 0.3249 - val_loss: 1724.2329 - val_accuracy: 0.3400 - lr: 0.0010\n",
            "Epoch 33/100\n",
            "12/12 [==============================] - ETA: 0s - loss: 3.5474 - accuracy: 0.2797"
          ]
        },
        {
          "metadata": {
            "tags": null
          },
          "name": "stderr",
          "output_type": "stream",
          "text": [
            "WARNING:tensorflow:Learning rate reduction is conditioned on metric `val_acc` which is not available. Available metrics are: loss,accuracy,val_loss,val_accuracy,lr\n"
          ]
        },
        {
          "metadata": {
            "tags": null
          },
          "name": "stdout",
          "output_type": "stream",
          "text": [
            "12/12 [==============================] - 47s 4s/step - loss: 3.5474 - accuracy: 0.2797 - val_loss: 624.5568 - val_accuracy: 0.3400 - lr: 0.0010\n",
            "Epoch 34/100\n",
            "12/12 [==============================] - ETA: 0s - loss: 3.2736 - accuracy: 0.3362"
          ]
        },
        {
          "metadata": {
            "tags": null
          },
          "name": "stderr",
          "output_type": "stream",
          "text": [
            "WARNING:tensorflow:Learning rate reduction is conditioned on metric `val_acc` which is not available. Available metrics are: loss,accuracy,val_loss,val_accuracy,lr\n"
          ]
        },
        {
          "metadata": {
            "tags": null
          },
          "name": "stdout",
          "output_type": "stream",
          "text": [
            "12/12 [==============================] - 46s 4s/step - loss: 3.2736 - accuracy: 0.3362 - val_loss: 360.1045 - val_accuracy: 0.3400 - lr: 0.0010\n",
            "Epoch 35/100\n",
            "12/12 [==============================] - ETA: 0s - loss: 3.1229 - accuracy: 0.3192"
          ]
        },
        {
          "metadata": {
            "tags": null
          },
          "name": "stderr",
          "output_type": "stream",
          "text": [
            "WARNING:tensorflow:Learning rate reduction is conditioned on metric `val_acc` which is not available. Available metrics are: loss,accuracy,val_loss,val_accuracy,lr\n"
          ]
        },
        {
          "metadata": {
            "tags": null
          },
          "name": "stdout",
          "output_type": "stream",
          "text": [
            "12/12 [==============================] - 46s 4s/step - loss: 3.1229 - accuracy: 0.3192 - val_loss: 723.4187 - val_accuracy: 0.3400 - lr: 0.0010\n",
            "Epoch 36/100\n",
            "12/12 [==============================] - ETA: 0s - loss: 2.8414 - accuracy: 0.3107"
          ]
        },
        {
          "metadata": {
            "tags": null
          },
          "name": "stderr",
          "output_type": "stream",
          "text": [
            "WARNING:tensorflow:Learning rate reduction is conditioned on metric `val_acc` which is not available. Available metrics are: loss,accuracy,val_loss,val_accuracy,lr\n"
          ]
        },
        {
          "metadata": {
            "tags": null
          },
          "name": "stdout",
          "output_type": "stream",
          "text": [
            "12/12 [==============================] - 45s 4s/step - loss: 2.8414 - accuracy: 0.3107 - val_loss: 382.6042 - val_accuracy: 0.3400 - lr: 0.0010\n",
            "Epoch 37/100\n",
            "12/12 [==============================] - ETA: 0s - loss: 2.8855 - accuracy: 0.3107"
          ]
        },
        {
          "metadata": {
            "tags": null
          },
          "name": "stderr",
          "output_type": "stream",
          "text": [
            "WARNING:tensorflow:Learning rate reduction is conditioned on metric `val_acc` which is not available. Available metrics are: loss,accuracy,val_loss,val_accuracy,lr\n"
          ]
        },
        {
          "metadata": {
            "tags": null
          },
          "name": "stdout",
          "output_type": "stream",
          "text": [
            "12/12 [==============================] - 47s 4s/step - loss: 2.8855 - accuracy: 0.3107 - val_loss: 213.7746 - val_accuracy: 0.3600 - lr: 0.0010\n",
            "Epoch 38/100\n",
            "12/12 [==============================] - ETA: 0s - loss: 3.0526 - accuracy: 0.2938"
          ]
        },
        {
          "metadata": {
            "tags": null
          },
          "name": "stderr",
          "output_type": "stream",
          "text": [
            "WARNING:tensorflow:Learning rate reduction is conditioned on metric `val_acc` which is not available. Available metrics are: loss,accuracy,val_loss,val_accuracy,lr\n"
          ]
        },
        {
          "metadata": {
            "tags": null
          },
          "name": "stdout",
          "output_type": "stream",
          "text": [
            "12/12 [==============================] - 45s 4s/step - loss: 3.0526 - accuracy: 0.2938 - val_loss: 103.4566 - val_accuracy: 0.2000 - lr: 0.0010\n",
            "Epoch 39/100\n",
            "12/12 [==============================] - ETA: 0s - loss: 3.7780 - accuracy: 0.3136"
          ]
        },
        {
          "metadata": {
            "tags": null
          },
          "name": "stderr",
          "output_type": "stream",
          "text": [
            "WARNING:tensorflow:Learning rate reduction is conditioned on metric `val_acc` which is not available. Available metrics are: loss,accuracy,val_loss,val_accuracy,lr\n"
          ]
        },
        {
          "metadata": {
            "tags": null
          },
          "name": "stdout",
          "output_type": "stream",
          "text": [
            "12/12 [==============================] - 46s 4s/step - loss: 3.7780 - accuracy: 0.3136 - val_loss: 126.9432 - val_accuracy: 0.2000 - lr: 0.0010\n",
            "Epoch 40/100\n",
            "12/12 [==============================] - ETA: 0s - loss: 2.8224 - accuracy: 0.3305"
          ]
        },
        {
          "metadata": {
            "tags": null
          },
          "name": "stderr",
          "output_type": "stream",
          "text": [
            "WARNING:tensorflow:Learning rate reduction is conditioned on metric `val_acc` which is not available. Available metrics are: loss,accuracy,val_loss,val_accuracy,lr\n"
          ]
        },
        {
          "metadata": {
            "tags": null
          },
          "name": "stdout",
          "output_type": "stream",
          "text": [
            "12/12 [==============================] - 45s 4s/step - loss: 2.8224 - accuracy: 0.3305 - val_loss: 270.6758 - val_accuracy: 0.3600 - lr: 0.0010\n",
            "Epoch 41/100\n",
            "12/12 [==============================] - ETA: 0s - loss: 4.2868 - accuracy: 0.3079"
          ]
        },
        {
          "metadata": {
            "tags": null
          },
          "name": "stderr",
          "output_type": "stream",
          "text": [
            "WARNING:tensorflow:Learning rate reduction is conditioned on metric `val_acc` which is not available. Available metrics are: loss,accuracy,val_loss,val_accuracy,lr\n"
          ]
        },
        {
          "metadata": {
            "tags": null
          },
          "name": "stdout",
          "output_type": "stream",
          "text": [
            "12/12 [==============================] - 45s 4s/step - loss: 4.2868 - accuracy: 0.3079 - val_loss: 4.9115 - val_accuracy: 0.3200 - lr: 0.0010\n",
            "Epoch 42/100\n",
            "12/12 [==============================] - ETA: 0s - loss: 3.8572 - accuracy: 0.3079"
          ]
        },
        {
          "metadata": {
            "tags": null
          },
          "name": "stderr",
          "output_type": "stream",
          "text": [
            "WARNING:tensorflow:Learning rate reduction is conditioned on metric `val_acc` which is not available. Available metrics are: loss,accuracy,val_loss,val_accuracy,lr\n"
          ]
        },
        {
          "metadata": {
            "tags": null
          },
          "name": "stdout",
          "output_type": "stream",
          "text": [
            "12/12 [==============================] - 46s 4s/step - loss: 3.8572 - accuracy: 0.3079 - val_loss: 20.7285 - val_accuracy: 0.3400 - lr: 0.0010\n",
            "Epoch 43/100\n",
            "12/12 [==============================] - ETA: 0s - loss: 3.7799 - accuracy: 0.3503"
          ]
        },
        {
          "metadata": {
            "tags": null
          },
          "name": "stderr",
          "output_type": "stream",
          "text": [
            "WARNING:tensorflow:Learning rate reduction is conditioned on metric `val_acc` which is not available. Available metrics are: loss,accuracy,val_loss,val_accuracy,lr\n"
          ]
        },
        {
          "metadata": {
            "tags": null
          },
          "name": "stdout",
          "output_type": "stream",
          "text": [
            "12/12 [==============================] - 45s 4s/step - loss: 3.7799 - accuracy: 0.3503 - val_loss: 20.7023 - val_accuracy: 0.3800 - lr: 0.0010\n",
            "Epoch 44/100\n",
            "12/12 [==============================] - ETA: 0s - loss: 3.5036 - accuracy: 0.3107"
          ]
        },
        {
          "metadata": {
            "tags": null
          },
          "name": "stderr",
          "output_type": "stream",
          "text": [
            "WARNING:tensorflow:Learning rate reduction is conditioned on metric `val_acc` which is not available. Available metrics are: loss,accuracy,val_loss,val_accuracy,lr\n"
          ]
        },
        {
          "metadata": {
            "tags": null
          },
          "name": "stdout",
          "output_type": "stream",
          "text": [
            "12/12 [==============================] - 45s 4s/step - loss: 3.5036 - accuracy: 0.3107 - val_loss: 9.2536 - val_accuracy: 0.2200 - lr: 0.0010\n",
            "Epoch 45/100\n",
            "12/12 [==============================] - ETA: 0s - loss: 3.0811 - accuracy: 0.2853"
          ]
        },
        {
          "metadata": {
            "tags": null
          },
          "name": "stderr",
          "output_type": "stream",
          "text": [
            "WARNING:tensorflow:Learning rate reduction is conditioned on metric `val_acc` which is not available. Available metrics are: loss,accuracy,val_loss,val_accuracy,lr\n"
          ]
        },
        {
          "metadata": {
            "tags": null
          },
          "name": "stdout",
          "output_type": "stream",
          "text": [
            "12/12 [==============================] - 45s 4s/step - loss: 3.0811 - accuracy: 0.2853 - val_loss: 4.6026 - val_accuracy: 0.3000 - lr: 0.0010\n",
            "Epoch 46/100\n",
            "12/12 [==============================] - ETA: 0s - loss: 3.1060 - accuracy: 0.3672"
          ]
        },
        {
          "metadata": {
            "tags": null
          },
          "name": "stderr",
          "output_type": "stream",
          "text": [
            "WARNING:tensorflow:Learning rate reduction is conditioned on metric `val_acc` which is not available. Available metrics are: loss,accuracy,val_loss,val_accuracy,lr\n"
          ]
        },
        {
          "metadata": {
            "tags": null
          },
          "name": "stdout",
          "output_type": "stream",
          "text": [
            "12/12 [==============================] - 45s 4s/step - loss: 3.1060 - accuracy: 0.3672 - val_loss: 42.8196 - val_accuracy: 0.3000 - lr: 0.0010\n",
            "Epoch 47/100\n",
            "12/12 [==============================] - ETA: 0s - loss: 3.4203 - accuracy: 0.3277"
          ]
        },
        {
          "metadata": {
            "tags": null
          },
          "name": "stderr",
          "output_type": "stream",
          "text": [
            "WARNING:tensorflow:Learning rate reduction is conditioned on metric `val_acc` which is not available. Available metrics are: loss,accuracy,val_loss,val_accuracy,lr\n"
          ]
        },
        {
          "metadata": {
            "tags": null
          },
          "name": "stdout",
          "output_type": "stream",
          "text": [
            "12/12 [==============================] - 45s 4s/step - loss: 3.4203 - accuracy: 0.3277 - val_loss: 136.6216 - val_accuracy: 0.3200 - lr: 0.0010\n",
            "Epoch 48/100\n",
            "12/12 [==============================] - ETA: 0s - loss: 3.3055 - accuracy: 0.3051"
          ]
        },
        {
          "metadata": {
            "tags": null
          },
          "name": "stderr",
          "output_type": "stream",
          "text": [
            "WARNING:tensorflow:Learning rate reduction is conditioned on metric `val_acc` which is not available. Available metrics are: loss,accuracy,val_loss,val_accuracy,lr\n"
          ]
        },
        {
          "metadata": {
            "tags": null
          },
          "name": "stdout",
          "output_type": "stream",
          "text": [
            "12/12 [==============================] - 45s 4s/step - loss: 3.3055 - accuracy: 0.3051 - val_loss: 110.8013 - val_accuracy: 0.3200 - lr: 0.0010\n",
            "Epoch 49/100\n",
            "12/12 [==============================] - ETA: 0s - loss: 2.8407 - accuracy: 0.3023"
          ]
        },
        {
          "metadata": {
            "tags": null
          },
          "name": "stderr",
          "output_type": "stream",
          "text": [
            "WARNING:tensorflow:Learning rate reduction is conditioned on metric `val_acc` which is not available. Available metrics are: loss,accuracy,val_loss,val_accuracy,lr\n"
          ]
        },
        {
          "metadata": {
            "tags": null
          },
          "name": "stdout",
          "output_type": "stream",
          "text": [
            "12/12 [==============================] - 44s 4s/step - loss: 2.8407 - accuracy: 0.3023 - val_loss: 38.4207 - val_accuracy: 0.3000 - lr: 0.0010\n",
            "Epoch 50/100\n",
            "12/12 [==============================] - ETA: 0s - loss: 3.0183 - accuracy: 0.2740"
          ]
        },
        {
          "metadata": {
            "tags": null
          },
          "name": "stderr",
          "output_type": "stream",
          "text": [
            "WARNING:tensorflow:Learning rate reduction is conditioned on metric `val_acc` which is not available. Available metrics are: loss,accuracy,val_loss,val_accuracy,lr\n"
          ]
        },
        {
          "metadata": {
            "tags": null
          },
          "name": "stdout",
          "output_type": "stream",
          "text": [
            "12/12 [==============================] - 44s 4s/step - loss: 3.0183 - accuracy: 0.2740 - val_loss: 25.9795 - val_accuracy: 0.3400 - lr: 0.0010\n",
            "Epoch 51/100\n",
            "12/12 [==============================] - ETA: 0s - loss: 3.3326 - accuracy: 0.3503"
          ]
        },
        {
          "metadata": {
            "tags": null
          },
          "name": "stderr",
          "output_type": "stream",
          "text": [
            "WARNING:tensorflow:Learning rate reduction is conditioned on metric `val_acc` which is not available. Available metrics are: loss,accuracy,val_loss,val_accuracy,lr\n"
          ]
        },
        {
          "output_type": "stream",
          "name": "stdout",
          "text": [
            "12/12 [==============================] - 43s 4s/step - loss: 3.3326 - accuracy: 0.3503 - val_loss: 14.6792 - val_accuracy: 0.3400 - lr: 0.0010\n",
            "Epoch 52/100\n",
            "12/12 [==============================] - ETA: 0s - loss: 3.0007 - accuracy: 0.3446"
          ]
        },
        {
          "output_type": "stream",
          "name": "stderr",
          "text": [
            "WARNING:tensorflow:Learning rate reduction is conditioned on metric `val_acc` which is not available. Available metrics are: loss,accuracy,val_loss,val_accuracy,lr\n"
          ]
        },
        {
          "output_type": "stream",
          "name": "stdout",
          "text": [
            "\b\b\b\b\b\b\b\b\b\b\b\b\b\b\b\b\b\b\b\b\b\b\b\b\b\b\b\b\b\b\b\b\b\b\b\b\b\b\b\b\b\b\b\b\b\b\b\b\b\b\b\b\b\b\b\b\b\b\b\b\b\b\b\b\b\b\b\b\b\b\b\b\b\b\b\b\b\b\b\b\b\b\r12/12 [==============================] - 44s 4s/step - loss: 3.0007 - accuracy: 0.3446 - val_loss: 6.2641 - val_accuracy: 0.3600 - lr: 0.0010\n",
            "Epoch 53/100\n",
            "12/12 [==============================] - ETA: 0s - loss: 3.3231 - accuracy: 0.2938"
          ]
        },
        {
          "output_type": "stream",
          "name": "stderr",
          "text": [
            "WARNING:tensorflow:Learning rate reduction is conditioned on metric `val_acc` which is not available. Available metrics are: loss,accuracy,val_loss,val_accuracy,lr\n"
          ]
        },
        {
          "output_type": "stream",
          "name": "stdout",
          "text": [
            "\b\b\b\b\b\b\b\b\b\b\b\b\b\b\b\b\b\b\b\b\b\b\b\b\b\b\b\b\b\b\b\b\b\b\b\b\b\b\b\b\b\b\b\b\b\b\b\b\b\b\b\b\b\b\b\b\b\b\b\b\b\b\b\b\b\b\b\b\b\b\b\b\b\b\b\b\b\b\b\b\b\b\r12/12 [==============================] - 44s 4s/step - loss: 3.3231 - accuracy: 0.2938 - val_loss: 4.5874 - val_accuracy: 0.3400 - lr: 0.0010\n",
            "Epoch 54/100\n",
            "12/12 [==============================] - ETA: 0s - loss: 3.4921 - accuracy: 0.3475"
          ]
        },
        {
          "output_type": "stream",
          "name": "stderr",
          "text": [
            "WARNING:tensorflow:Learning rate reduction is conditioned on metric `val_acc` which is not available. Available metrics are: loss,accuracy,val_loss,val_accuracy,lr\n"
          ]
        },
        {
          "output_type": "stream",
          "name": "stdout",
          "text": [
            "\b\b\b\b\b\b\b\b\b\b\b\b\b\b\b\b\b\b\b\b\b\b\b\b\b\b\b\b\b\b\b\b\b\b\b\b\b\b\b\b\b\b\b\b\b\b\b\b\b\b\b\b\b\b\b\b\b\b\b\b\b\b\b\b\b\b\b\b\b\b\b\b\b\b\b\b\b\b\b\b\b\b\r12/12 [==============================] - 44s 4s/step - loss: 3.4921 - accuracy: 0.3475 - val_loss: 35.9059 - val_accuracy: 0.2600 - lr: 0.0010\n",
            "Epoch 55/100\n",
            "12/12 [==============================] - ETA: 0s - loss: 2.4659 - accuracy: 0.3616"
          ]
        },
        {
          "output_type": "stream",
          "name": "stderr",
          "text": [
            "WARNING:tensorflow:Learning rate reduction is conditioned on metric `val_acc` which is not available. Available metrics are: loss,accuracy,val_loss,val_accuracy,lr\n"
          ]
        },
        {
          "output_type": "stream",
          "name": "stdout",
          "text": [
            "\b\b\b\b\b\b\b\b\b\b\b\b\b\b\b\b\b\b\b\b\b\b\b\b\b\b\b\b\b\b\b\b\b\b\b\b\b\b\b\b\b\b\b\b\b\b\b\b\b\b\b\b\b\b\b\b\b\b\b\b\b\b\b\b\b\b\b\b\b\b\b\b\b\b\b\b\b\b\b\b\b\b\r12/12 [==============================] - 44s 4s/step - loss: 2.4659 - accuracy: 0.3616 - val_loss: 81.0096 - val_accuracy: 0.3200 - lr: 0.0010\n",
            "Epoch 56/100\n",
            "12/12 [==============================] - ETA: 0s - loss: 3.2532 - accuracy: 0.3390"
          ]
        },
        {
          "output_type": "stream",
          "name": "stderr",
          "text": [
            "WARNING:tensorflow:Learning rate reduction is conditioned on metric `val_acc` which is not available. Available metrics are: loss,accuracy,val_loss,val_accuracy,lr\n"
          ]
        },
        {
          "output_type": "stream",
          "name": "stdout",
          "text": [
            "\b\b\b\b\b\b\b\b\b\b\b\b\b\b\b\b\b\b\b\b\b\b\b\b\b\b\b\b\b\b\b\b\b\b\b\b\b\b\b\b\b\b\b\b\b\b\b\b\b\b\b\b\b\b\b\b\b\b\b\b\b\b\b\b\b\b\b\b\b\b\b\b\b\b\b\b\b\b\b\b\b\b\r12/12 [==============================] - 49s 4s/step - loss: 3.2532 - accuracy: 0.3390 - val_loss: 3.4485 - val_accuracy: 0.3600 - lr: 0.0010\n",
            "Epoch 57/100\n",
            "12/12 [==============================] - ETA: 0s - loss: 3.9246 - accuracy: 0.3136"
          ]
        },
        {
          "output_type": "stream",
          "name": "stderr",
          "text": [
            "WARNING:tensorflow:Learning rate reduction is conditioned on metric `val_acc` which is not available. Available metrics are: loss,accuracy,val_loss,val_accuracy,lr\n"
          ]
        },
        {
          "output_type": "stream",
          "name": "stdout",
          "text": [
            "\b\b\b\b\b\b\b\b\b\b\b\b\b\b\b\b\b\b\b\b\b\b\b\b\b\b\b\b\b\b\b\b\b\b\b\b\b\b\b\b\b\b\b\b\b\b\b\b\b\b\b\b\b\b\b\b\b\b\b\b\b\b\b\b\b\b\b\b\b\b\b\b\b\b\b\b\b\b\b\b\b\b\r12/12 [==============================] - 44s 4s/step - loss: 3.9246 - accuracy: 0.3136 - val_loss: 84.3291 - val_accuracy: 0.3000 - lr: 0.0010\n",
            "Epoch 58/100\n",
            "12/12 [==============================] - ETA: 0s - loss: 2.3823 - accuracy: 0.3757"
          ]
        },
        {
          "output_type": "stream",
          "name": "stderr",
          "text": [
            "WARNING:tensorflow:Learning rate reduction is conditioned on metric `val_acc` which is not available. Available metrics are: loss,accuracy,val_loss,val_accuracy,lr\n"
          ]
        },
        {
          "output_type": "stream",
          "name": "stdout",
          "text": [
            "\b\b\b\b\b\b\b\b\b\b\b\b\b\b\b\b\b\b\b\b\b\b\b\b\b\b\b\b\b\b\b\b\b\b\b\b\b\b\b\b\b\b\b\b\b\b\b\b\b\b\b\b\b\b\b\b\b\b\b\b\b\b\b\b\b\b\b\b\b\b\b\b\b\b\b\b\b\b\b\b\b\b\r12/12 [==============================] - 44s 4s/step - loss: 2.3823 - accuracy: 0.3757 - val_loss: 20.0148 - val_accuracy: 0.3600 - lr: 0.0010\n",
            "Epoch 59/100\n",
            "12/12 [==============================] - ETA: 0s - loss: 2.8034 - accuracy: 0.3559"
          ]
        },
        {
          "output_type": "stream",
          "name": "stderr",
          "text": [
            "WARNING:tensorflow:Learning rate reduction is conditioned on metric `val_acc` which is not available. Available metrics are: loss,accuracy,val_loss,val_accuracy,lr\n"
          ]
        },
        {
          "output_type": "stream",
          "name": "stdout",
          "text": [
            "\b\b\b\b\b\b\b\b\b\b\b\b\b\b\b\b\b\b\b\b\b\b\b\b\b\b\b\b\b\b\b\b\b\b\b\b\b\b\b\b\b\b\b\b\b\b\b\b\b\b\b\b\b\b\b\b\b\b\b\b\b\b\b\b\b\b\b\b\b\b\b\b\b\b\b\b\b\b\b\b\b\b\r12/12 [==============================] - 42s 3s/step - loss: 2.8034 - accuracy: 0.3559 - val_loss: 62.7287 - val_accuracy: 0.2800 - lr: 0.0010\n",
            "Epoch 60/100\n",
            "12/12 [==============================] - ETA: 0s - loss: 3.2291 - accuracy: 0.3107"
          ]
        },
        {
          "output_type": "stream",
          "name": "stderr",
          "text": [
            "WARNING:tensorflow:Learning rate reduction is conditioned on metric `val_acc` which is not available. Available metrics are: loss,accuracy,val_loss,val_accuracy,lr\n"
          ]
        },
        {
          "output_type": "stream",
          "name": "stdout",
          "text": [
            "\b\b\b\b\b\b\b\b\b\b\b\b\b\b\b\b\b\b\b\b\b\b\b\b\b\b\b\b\b\b\b\b\b\b\b\b\b\b\b\b\b\b\b\b\b\b\b\b\b\b\b\b\b\b\b\b\b\b\b\b\b\b\b\b\b\b\b\b\b\b\b\b\b\b\b\b\b\b\b\b\b\b\r12/12 [==============================] - 43s 3s/step - loss: 3.2291 - accuracy: 0.3107 - val_loss: 61.0378 - val_accuracy: 0.2200 - lr: 0.0010\n",
            "Epoch 61/100\n",
            "12/12 [==============================] - ETA: 0s - loss: 3.3173 - accuracy: 0.3107"
          ]
        },
        {
          "output_type": "stream",
          "name": "stderr",
          "text": [
            "WARNING:tensorflow:Learning rate reduction is conditioned on metric `val_acc` which is not available. Available metrics are: loss,accuracy,val_loss,val_accuracy,lr\n"
          ]
        },
        {
          "output_type": "stream",
          "name": "stdout",
          "text": [
            "\b\b\b\b\b\b\b\b\b\b\b\b\b\b\b\b\b\b\b\b\b\b\b\b\b\b\b\b\b\b\b\b\b\b\b\b\b\b\b\b\b\b\b\b\b\b\b\b\b\b\b\b\b\b\b\b\b\b\b\b\b\b\b\b\b\b\b\b\b\b\b\b\b\b\b\b\b\b\b\b\b\b\r12/12 [==============================] - 43s 4s/step - loss: 3.3173 - accuracy: 0.3107 - val_loss: 502.0108 - val_accuracy: 0.3400 - lr: 0.0010\n",
            "Epoch 62/100\n",
            "12/12 [==============================] - ETA: 0s - loss: 2.8738 - accuracy: 0.3390"
          ]
        },
        {
          "output_type": "stream",
          "name": "stderr",
          "text": [
            "WARNING:tensorflow:Learning rate reduction is conditioned on metric `val_acc` which is not available. Available metrics are: loss,accuracy,val_loss,val_accuracy,lr\n"
          ]
        },
        {
          "output_type": "stream",
          "name": "stdout",
          "text": [
            "\b\b\b\b\b\b\b\b\b\b\b\b\b\b\b\b\b\b\b\b\b\b\b\b\b\b\b\b\b\b\b\b\b\b\b\b\b\b\b\b\b\b\b\b\b\b\b\b\b\b\b\b\b\b\b\b\b\b\b\b\b\b\b\b\b\b\b\b\b\b\b\b\b\b\b\b\b\b\b\b\b\b\r12/12 [==============================] - 46s 4s/step - loss: 2.8738 - accuracy: 0.3390 - val_loss: 264.7463 - val_accuracy: 0.3400 - lr: 0.0010\n",
            "Epoch 63/100\n",
            "12/12 [==============================] - ETA: 0s - loss: 2.4749 - accuracy: 0.3333"
          ]
        },
        {
          "output_type": "stream",
          "name": "stderr",
          "text": [
            "WARNING:tensorflow:Learning rate reduction is conditioned on metric `val_acc` which is not available. Available metrics are: loss,accuracy,val_loss,val_accuracy,lr\n"
          ]
        },
        {
          "output_type": "stream",
          "name": "stdout",
          "text": [
            "\b\b\b\b\b\b\b\b\b\b\b\b\b\b\b\b\b\b\b\b\b\b\b\b\b\b\b\b\b\b\b\b\b\b\b\b\b\b\b\b\b\b\b\b\b\b\b\b\b\b\b\b\b\b\b\b\b\b\b\b\b\b\b\b\b\b\b\b\b\b\b\b\b\b\b\b\b\b\b\b\b\b\r12/12 [==============================] - 43s 4s/step - loss: 2.4749 - accuracy: 0.3333 - val_loss: 795.2617 - val_accuracy: 0.3400 - lr: 0.0010\n",
            "Epoch 64/100\n",
            "12/12 [==============================] - ETA: 0s - loss: 2.5997 - accuracy: 0.3390"
          ]
        },
        {
          "output_type": "stream",
          "name": "stderr",
          "text": [
            "WARNING:tensorflow:Learning rate reduction is conditioned on metric `val_acc` which is not available. Available metrics are: loss,accuracy,val_loss,val_accuracy,lr\n"
          ]
        },
        {
          "output_type": "stream",
          "name": "stdout",
          "text": [
            "\b\b\b\b\b\b\b\b\b\b\b\b\b\b\b\b\b\b\b\b\b\b\b\b\b\b\b\b\b\b\b\b\b\b\b\b\b\b\b\b\b\b\b\b\b\b\b\b\b\b\b\b\b\b\b\b\b\b\b\b\b\b\b\b\b\b\b\b\b\b\b\b\b\b\b\b\b\b\b\b\b\b\r12/12 [==============================] - 45s 4s/step - loss: 2.5997 - accuracy: 0.3390 - val_loss: 356.5532 - val_accuracy: 0.2000 - lr: 0.0010\n",
            "Epoch 65/100\n",
            "12/12 [==============================] - ETA: 0s - loss: 2.8646 - accuracy: 0.3136"
          ]
        },
        {
          "output_type": "stream",
          "name": "stderr",
          "text": [
            "WARNING:tensorflow:Learning rate reduction is conditioned on metric `val_acc` which is not available. Available metrics are: loss,accuracy,val_loss,val_accuracy,lr\n"
          ]
        },
        {
          "output_type": "stream",
          "name": "stdout",
          "text": [
            "\b\b\b\b\b\b\b\b\b\b\b\b\b\b\b\b\b\b\b\b\b\b\b\b\b\b\b\b\b\b\b\b\b\b\b\b\b\b\b\b\b\b\b\b\b\b\b\b\b\b\b\b\b\b\b\b\b\b\b\b\b\b\b\b\b\b\b\b\b\b\b\b\b\b\b\b\b\b\b\b\b\b\r12/12 [==============================] - 43s 4s/step - loss: 2.8646 - accuracy: 0.3136 - val_loss: 351.3000 - val_accuracy: 0.3600 - lr: 0.0010\n",
            "Epoch 66/100\n",
            "12/12 [==============================] - ETA: 0s - loss: 1.9461 - accuracy: 0.3475"
          ]
        },
        {
          "output_type": "stream",
          "name": "stderr",
          "text": [
            "WARNING:tensorflow:Learning rate reduction is conditioned on metric `val_acc` which is not available. Available metrics are: loss,accuracy,val_loss,val_accuracy,lr\n"
          ]
        },
        {
          "output_type": "stream",
          "name": "stdout",
          "text": [
            "\b\b\b\b\b\b\b\b\b\b\b\b\b\b\b\b\b\b\b\b\b\b\b\b\b\b\b\b\b\b\b\b\b\b\b\b\b\b\b\b\b\b\b\b\b\b\b\b\b\b\b\b\b\b\b\b\b\b\b\b\b\b\b\b\b\b\b\b\b\b\b\b\b\b\b\b\b\b\b\b\b\b\r12/12 [==============================] - 43s 4s/step - loss: 1.9461 - accuracy: 0.3475 - val_loss: 80.4790 - val_accuracy: 0.3400 - lr: 0.0010\n",
            "Epoch 67/100\n",
            "12/12 [==============================] - ETA: 0s - loss: 3.3308 - accuracy: 0.3446"
          ]
        },
        {
          "output_type": "stream",
          "name": "stderr",
          "text": [
            "WARNING:tensorflow:Learning rate reduction is conditioned on metric `val_acc` which is not available. Available metrics are: loss,accuracy,val_loss,val_accuracy,lr\n"
          ]
        },
        {
          "output_type": "stream",
          "name": "stdout",
          "text": [
            "\b\b\b\b\b\b\b\b\b\b\b\b\b\b\b\b\b\b\b\b\b\b\b\b\b\b\b\b\b\b\b\b\b\b\b\b\b\b\b\b\b\b\b\b\b\b\b\b\b\b\b\b\b\b\b\b\b\b\b\b\b\b\b\b\b\b\b\b\b\b\b\b\b\b\b\b\b\b\b\b\b\b\r12/12 [==============================] - 44s 4s/step - loss: 3.3308 - accuracy: 0.3446 - val_loss: 229.5483 - val_accuracy: 0.3600 - lr: 0.0010\n",
            "Epoch 68/100\n",
            "12/12 [==============================] - ETA: 0s - loss: 2.4343 - accuracy: 0.3249"
          ]
        },
        {
          "output_type": "stream",
          "name": "stderr",
          "text": [
            "WARNING:tensorflow:Learning rate reduction is conditioned on metric `val_acc` which is not available. Available metrics are: loss,accuracy,val_loss,val_accuracy,lr\n"
          ]
        },
        {
          "output_type": "stream",
          "name": "stdout",
          "text": [
            "\b\b\b\b\b\b\b\b\b\b\b\b\b\b\b\b\b\b\b\b\b\b\b\b\b\b\b\b\b\b\b\b\b\b\b\b\b\b\b\b\b\b\b\b\b\b\b\b\b\b\b\b\b\b\b\b\b\b\b\b\b\b\b\b\b\b\b\b\b\b\b\b\b\b\b\b\b\b\b\b\b\b\r12/12 [==============================] - 44s 4s/step - loss: 2.4343 - accuracy: 0.3249 - val_loss: 182.7012 - val_accuracy: 0.3400 - lr: 0.0010\n",
            "Epoch 69/100\n",
            "12/12 [==============================] - ETA: 0s - loss: 2.9349 - accuracy: 0.3249"
          ]
        },
        {
          "output_type": "stream",
          "name": "stderr",
          "text": [
            "WARNING:tensorflow:Learning rate reduction is conditioned on metric `val_acc` which is not available. Available metrics are: loss,accuracy,val_loss,val_accuracy,lr\n"
          ]
        },
        {
          "output_type": "stream",
          "name": "stdout",
          "text": [
            "\b\b\b\b\b\b\b\b\b\b\b\b\b\b\b\b\b\b\b\b\b\b\b\b\b\b\b\b\b\b\b\b\b\b\b\b\b\b\b\b\b\b\b\b\b\b\b\b\b\b\b\b\b\b\b\b\b\b\b\b\b\b\b\b\b\b\b\b\b\b\b\b\b\b\b\b\b\b\b\b\b\b\r12/12 [==============================] - 44s 4s/step - loss: 2.9349 - accuracy: 0.3249 - val_loss: 235.7124 - val_accuracy: 0.2600 - lr: 0.0010\n",
            "Epoch 70/100\n",
            "12/12 [==============================] - ETA: 0s - loss: 2.9134 - accuracy: 0.3644"
          ]
        },
        {
          "output_type": "stream",
          "name": "stderr",
          "text": [
            "WARNING:tensorflow:Learning rate reduction is conditioned on metric `val_acc` which is not available. Available metrics are: loss,accuracy,val_loss,val_accuracy,lr\n"
          ]
        },
        {
          "output_type": "stream",
          "name": "stdout",
          "text": [
            "\b\b\b\b\b\b\b\b\b\b\b\b\b\b\b\b\b\b\b\b\b\b\b\b\b\b\b\b\b\b\b\b\b\b\b\b\b\b\b\b\b\b\b\b\b\b\b\b\b\b\b\b\b\b\b\b\b\b\b\b\b\b\b\b\b\b\b\b\b\b\b\b\b\b\b\b\b\b\b\b\b\b\r12/12 [==============================] - 44s 4s/step - loss: 2.9134 - accuracy: 0.3644 - val_loss: 215.4985 - val_accuracy: 0.2600 - lr: 0.0010\n",
            "Epoch 71/100\n",
            "12/12 [==============================] - ETA: 0s - loss: 4.1354 - accuracy: 0.3107"
          ]
        },
        {
          "output_type": "stream",
          "name": "stderr",
          "text": [
            "WARNING:tensorflow:Learning rate reduction is conditioned on metric `val_acc` which is not available. Available metrics are: loss,accuracy,val_loss,val_accuracy,lr\n"
          ]
        },
        {
          "output_type": "stream",
          "name": "stdout",
          "text": [
            "\b\b\b\b\b\b\b\b\b\b\b\b\b\b\b\b\b\b\b\b\b\b\b\b\b\b\b\b\b\b\b\b\b\b\b\b\b\b\b\b\b\b\b\b\b\b\b\b\b\b\b\b\b\b\b\b\b\b\b\b\b\b\b\b\b\b\b\b\b\b\b\b\b\b\b\b\b\b\b\b\b\b\r12/12 [==============================] - 44s 4s/step - loss: 4.1354 - accuracy: 0.3107 - val_loss: 402.5819 - val_accuracy: 0.3400 - lr: 0.0010\n",
            "Epoch 72/100\n",
            "12/12 [==============================] - ETA: 0s - loss: 2.2657 - accuracy: 0.3701"
          ]
        },
        {
          "output_type": "stream",
          "name": "stderr",
          "text": [
            "WARNING:tensorflow:Learning rate reduction is conditioned on metric `val_acc` which is not available. Available metrics are: loss,accuracy,val_loss,val_accuracy,lr\n"
          ]
        },
        {
          "output_type": "stream",
          "name": "stdout",
          "text": [
            "\b\b\b\b\b\b\b\b\b\b\b\b\b\b\b\b\b\b\b\b\b\b\b\b\b\b\b\b\b\b\b\b\b\b\b\b\b\b\b\b\b\b\b\b\b\b\b\b\b\b\b\b\b\b\b\b\b\b\b\b\b\b\b\b\b\b\b\b\b\b\b\b\b\b\b\b\b\b\b\b\b\b\r12/12 [==============================] - 44s 4s/step - loss: 2.2657 - accuracy: 0.3701 - val_loss: 215.7011 - val_accuracy: 0.3400 - lr: 0.0010\n",
            "Epoch 73/100\n",
            "12/12 [==============================] - ETA: 0s - loss: 2.8536 - accuracy: 0.2938"
          ]
        },
        {
          "output_type": "stream",
          "name": "stderr",
          "text": [
            "WARNING:tensorflow:Learning rate reduction is conditioned on metric `val_acc` which is not available. Available metrics are: loss,accuracy,val_loss,val_accuracy,lr\n"
          ]
        },
        {
          "output_type": "stream",
          "name": "stdout",
          "text": [
            "\b\b\b\b\b\b\b\b\b\b\b\b\b\b\b\b\b\b\b\b\b\b\b\b\b\b\b\b\b\b\b\b\b\b\b\b\b\b\b\b\b\b\b\b\b\b\b\b\b\b\b\b\b\b\b\b\b\b\b\b\b\b\b\b\b\b\b\b\b\b\b\b\b\b\b\b\b\b\b\b\b\b\r12/12 [==============================] - 43s 4s/step - loss: 2.8536 - accuracy: 0.2938 - val_loss: 20.5356 - val_accuracy: 0.3400 - lr: 0.0010\n",
            "Epoch 74/100\n",
            "12/12 [==============================] - ETA: 0s - loss: 1.7656 - accuracy: 0.3333"
          ]
        },
        {
          "output_type": "stream",
          "name": "stderr",
          "text": [
            "WARNING:tensorflow:Learning rate reduction is conditioned on metric `val_acc` which is not available. Available metrics are: loss,accuracy,val_loss,val_accuracy,lr\n"
          ]
        },
        {
          "output_type": "stream",
          "name": "stdout",
          "text": [
            "\b\b\b\b\b\b\b\b\b\b\b\b\b\b\b\b\b\b\b\b\b\b\b\b\b\b\b\b\b\b\b\b\b\b\b\b\b\b\b\b\b\b\b\b\b\b\b\b\b\b\b\b\b\b\b\b\b\b\b\b\b\b\b\b\b\b\b\b\b\b\b\b\b\b\b\b\b\b\b\b\b\b\r12/12 [==============================] - 43s 4s/step - loss: 1.7656 - accuracy: 0.3333 - val_loss: 4.5088 - val_accuracy: 0.3200 - lr: 0.0010\n",
            "Epoch 75/100\n",
            "12/12 [==============================] - ETA: 0s - loss: 2.3389 - accuracy: 0.3277"
          ]
        },
        {
          "output_type": "stream",
          "name": "stderr",
          "text": [
            "WARNING:tensorflow:Learning rate reduction is conditioned on metric `val_acc` which is not available. Available metrics are: loss,accuracy,val_loss,val_accuracy,lr\n"
          ]
        },
        {
          "output_type": "stream",
          "name": "stdout",
          "text": [
            "\b\b\b\b\b\b\b\b\b\b\b\b\b\b\b\b\b\b\b\b\b\b\b\b\b\b\b\b\b\b\b\b\b\b\b\b\b\b\b\b\b\b\b\b\b\b\b\b\b\b\b\b\b\b\b\b\b\b\b\b\b\b\b\b\b\b\b\b\b\b\b\b\b\b\b\b\b\b\b\b\b\b\r12/12 [==============================] - 43s 4s/step - loss: 2.3389 - accuracy: 0.3277 - val_loss: 49.1363 - val_accuracy: 0.2200 - lr: 0.0010\n",
            "Epoch 76/100\n",
            "12/12 [==============================] - ETA: 0s - loss: 2.8167 - accuracy: 0.3531"
          ]
        },
        {
          "output_type": "stream",
          "name": "stderr",
          "text": [
            "WARNING:tensorflow:Learning rate reduction is conditioned on metric `val_acc` which is not available. Available metrics are: loss,accuracy,val_loss,val_accuracy,lr\n"
          ]
        },
        {
          "output_type": "stream",
          "name": "stdout",
          "text": [
            "\b\b\b\b\b\b\b\b\b\b\b\b\b\b\b\b\b\b\b\b\b\b\b\b\b\b\b\b\b\b\b\b\b\b\b\b\b\b\b\b\b\b\b\b\b\b\b\b\b\b\b\b\b\b\b\b\b\b\b\b\b\b\b\b\b\b\b\b\b\b\b\b\b\b\b\b\b\b\b\b\b\b\r12/12 [==============================] - 44s 4s/step - loss: 2.8167 - accuracy: 0.3531 - val_loss: 2.0377 - val_accuracy: 0.2800 - lr: 0.0010\n",
            "Epoch 77/100\n",
            "12/12 [==============================] - ETA: 0s - loss: 3.0938 - accuracy: 0.3814"
          ]
        },
        {
          "output_type": "stream",
          "name": "stderr",
          "text": [
            "WARNING:tensorflow:Learning rate reduction is conditioned on metric `val_acc` which is not available. Available metrics are: loss,accuracy,val_loss,val_accuracy,lr\n"
          ]
        },
        {
          "output_type": "stream",
          "name": "stdout",
          "text": [
            "\b\b\b\b\b\b\b\b\b\b\b\b\b\b\b\b\b\b\b\b\b\b\b\b\b\b\b\b\b\b\b\b\b\b\b\b\b\b\b\b\b\b\b\b\b\b\b\b\b\b\b\b\b\b\b\b\b\b\b\b\b\b\b\b\b\b\b\b\b\b\b\b\b\b\b\b\b\b\b\b\b\b\r12/12 [==============================] - 44s 4s/step - loss: 3.0938 - accuracy: 0.3814 - val_loss: 66.6769 - val_accuracy: 0.3400 - lr: 0.0010\n",
            "Epoch 78/100\n",
            "12/12 [==============================] - ETA: 0s - loss: 4.0223 - accuracy: 0.3333"
          ]
        },
        {
          "output_type": "stream",
          "name": "stderr",
          "text": [
            "WARNING:tensorflow:Learning rate reduction is conditioned on metric `val_acc` which is not available. Available metrics are: loss,accuracy,val_loss,val_accuracy,lr\n"
          ]
        },
        {
          "output_type": "stream",
          "name": "stdout",
          "text": [
            "\b\b\b\b\b\b\b\b\b\b\b\b\b\b\b\b\b\b\b\b\b\b\b\b\b\b\b\b\b\b\b\b\b\b\b\b\b\b\b\b\b\b\b\b\b\b\b\b\b\b\b\b\b\b\b\b\b\b\b\b\b\b\b\b\b\b\b\b\b\b\b\b\b\b\b\b\b\b\b\b\b\b\r12/12 [==============================] - 42s 4s/step - loss: 4.0223 - accuracy: 0.3333 - val_loss: 43.3809 - val_accuracy: 0.2200 - lr: 0.0010\n",
            "Epoch 79/100\n",
            "12/12 [==============================] - ETA: 0s - loss: 4.0044 - accuracy: 0.3277"
          ]
        },
        {
          "output_type": "stream",
          "name": "stderr",
          "text": [
            "WARNING:tensorflow:Learning rate reduction is conditioned on metric `val_acc` which is not available. Available metrics are: loss,accuracy,val_loss,val_accuracy,lr\n"
          ]
        },
        {
          "output_type": "stream",
          "name": "stdout",
          "text": [
            "\b\b\b\b\b\b\b\b\b\b\b\b\b\b\b\b\b\b\b\b\b\b\b\b\b\b\b\b\b\b\b\b\b\b\b\b\b\b\b\b\b\b\b\b\b\b\b\b\b\b\b\b\b\b\b\b\b\b\b\b\b\b\b\b\b\b\b\b\b\b\b\b\b\b\b\b\b\b\b\b\b\b\r12/12 [==============================] - 43s 3s/step - loss: 4.0044 - accuracy: 0.3277 - val_loss: 14.3316 - val_accuracy: 0.3200 - lr: 0.0010\n",
            "Epoch 80/100\n",
            "12/12 [==============================] - ETA: 0s - loss: 2.9459 - accuracy: 0.3559"
          ]
        },
        {
          "output_type": "stream",
          "name": "stderr",
          "text": [
            "WARNING:tensorflow:Learning rate reduction is conditioned on metric `val_acc` which is not available. Available metrics are: loss,accuracy,val_loss,val_accuracy,lr\n"
          ]
        },
        {
          "output_type": "stream",
          "name": "stdout",
          "text": [
            "\b\b\b\b\b\b\b\b\b\b\b\b\b\b\b\b\b\b\b\b\b\b\b\b\b\b\b\b\b\b\b\b\b\b\b\b\b\b\b\b\b\b\b\b\b\b\b\b\b\b\b\b\b\b\b\b\b\b\b\b\b\b\b\b\b\b\b\b\b\b\b\b\b\b\b\b\b\b\b\b\b\b\r12/12 [==============================] - 46s 4s/step - loss: 2.9459 - accuracy: 0.3559 - val_loss: 19.2620 - val_accuracy: 0.3400 - lr: 0.0010\n",
            "Epoch 81/100\n",
            "12/12 [==============================] - ETA: 0s - loss: 2.6013 - accuracy: 0.2994"
          ]
        },
        {
          "output_type": "stream",
          "name": "stderr",
          "text": [
            "WARNING:tensorflow:Learning rate reduction is conditioned on metric `val_acc` which is not available. Available metrics are: loss,accuracy,val_loss,val_accuracy,lr\n"
          ]
        },
        {
          "output_type": "stream",
          "name": "stdout",
          "text": [
            "\b\b\b\b\b\b\b\b\b\b\b\b\b\b\b\b\b\b\b\b\b\b\b\b\b\b\b\b\b\b\b\b\b\b\b\b\b\b\b\b\b\b\b\b\b\b\b\b\b\b\b\b\b\b\b\b\b\b\b\b\b\b\b\b\b\b\b\b\b\b\b\b\b\b\b\b\b\b\b\b\b\b\r12/12 [==============================] - 47s 4s/step - loss: 2.6013 - accuracy: 0.2994 - val_loss: 20.9795 - val_accuracy: 0.3400 - lr: 0.0010\n",
            "Epoch 82/100\n",
            "12/12 [==============================] - ETA: 0s - loss: 2.4908 - accuracy: 0.3446"
          ]
        },
        {
          "output_type": "stream",
          "name": "stderr",
          "text": [
            "WARNING:tensorflow:Learning rate reduction is conditioned on metric `val_acc` which is not available. Available metrics are: loss,accuracy,val_loss,val_accuracy,lr\n"
          ]
        },
        {
          "output_type": "stream",
          "name": "stdout",
          "text": [
            "\b\b\b\b\b\b\b\b\b\b\b\b\b\b\b\b\b\b\b\b\b\b\b\b\b\b\b\b\b\b\b\b\b\b\b\b\b\b\b\b\b\b\b\b\b\b\b\b\b\b\b\b\b\b\b\b\b\b\b\b\b\b\b\b\b\b\b\b\b\b\b\b\b\b\b\b\b\b\b\b\b\b\r12/12 [==============================] - 43s 4s/step - loss: 2.4908 - accuracy: 0.3446 - val_loss: 62.0638 - val_accuracy: 0.3600 - lr: 0.0010\n",
            "Epoch 83/100\n",
            "12/12 [==============================] - ETA: 0s - loss: 2.0595 - accuracy: 0.3475"
          ]
        },
        {
          "output_type": "stream",
          "name": "stderr",
          "text": [
            "WARNING:tensorflow:Learning rate reduction is conditioned on metric `val_acc` which is not available. Available metrics are: loss,accuracy,val_loss,val_accuracy,lr\n"
          ]
        },
        {
          "output_type": "stream",
          "name": "stdout",
          "text": [
            "\b\b\b\b\b\b\b\b\b\b\b\b\b\b\b\b\b\b\b\b\b\b\b\b\b\b\b\b\b\b\b\b\b\b\b\b\b\b\b\b\b\b\b\b\b\b\b\b\b\b\b\b\b\b\b\b\b\b\b\b\b\b\b\b\b\b\b\b\b\b\b\b\b\b\b\b\b\b\b\b\b\b\r12/12 [==============================] - 46s 4s/step - loss: 2.0595 - accuracy: 0.3475 - val_loss: 428.7689 - val_accuracy: 0.3400 - lr: 0.0010\n",
            "Epoch 84/100\n",
            "12/12 [==============================] - ETA: 0s - loss: 2.3564 - accuracy: 0.3362"
          ]
        },
        {
          "output_type": "stream",
          "name": "stderr",
          "text": [
            "WARNING:tensorflow:Learning rate reduction is conditioned on metric `val_acc` which is not available. Available metrics are: loss,accuracy,val_loss,val_accuracy,lr\n"
          ]
        },
        {
          "output_type": "stream",
          "name": "stdout",
          "text": [
            "\b\b\b\b\b\b\b\b\b\b\b\b\b\b\b\b\b\b\b\b\b\b\b\b\b\b\b\b\b\b\b\b\b\b\b\b\b\b\b\b\b\b\b\b\b\b\b\b\b\b\b\b\b\b\b\b\b\b\b\b\b\b\b\b\b\b\b\b\b\b\b\b\b\b\b\b\b\b\b\b\b\b\r12/12 [==============================] - 43s 4s/step - loss: 2.3564 - accuracy: 0.3362 - val_loss: 363.5396 - val_accuracy: 0.3400 - lr: 0.0010\n",
            "Epoch 85/100\n",
            "12/12 [==============================] - ETA: 0s - loss: 3.0487 - accuracy: 0.3390"
          ]
        },
        {
          "output_type": "stream",
          "name": "stderr",
          "text": [
            "WARNING:tensorflow:Learning rate reduction is conditioned on metric `val_acc` which is not available. Available metrics are: loss,accuracy,val_loss,val_accuracy,lr\n"
          ]
        },
        {
          "output_type": "stream",
          "name": "stdout",
          "text": [
            "\b\b\b\b\b\b\b\b\b\b\b\b\b\b\b\b\b\b\b\b\b\b\b\b\b\b\b\b\b\b\b\b\b\b\b\b\b\b\b\b\b\b\b\b\b\b\b\b\b\b\b\b\b\b\b\b\b\b\b\b\b\b\b\b\b\b\b\b\b\b\b\b\b\b\b\b\b\b\b\b\b\b\r12/12 [==============================] - 45s 4s/step - loss: 3.0487 - accuracy: 0.3390 - val_loss: 181.3845 - val_accuracy: 0.3400 - lr: 0.0010\n",
            "Epoch 86/100\n",
            "12/12 [==============================] - ETA: 0s - loss: 2.3823 - accuracy: 0.4068"
          ]
        },
        {
          "output_type": "stream",
          "name": "stderr",
          "text": [
            "WARNING:tensorflow:Learning rate reduction is conditioned on metric `val_acc` which is not available. Available metrics are: loss,accuracy,val_loss,val_accuracy,lr\n"
          ]
        },
        {
          "output_type": "stream",
          "name": "stdout",
          "text": [
            "\b\b\b\b\b\b\b\b\b\b\b\b\b\b\b\b\b\b\b\b\b\b\b\b\b\b\b\b\b\b\b\b\b\b\b\b\b\b\b\b\b\b\b\b\b\b\b\b\b\b\b\b\b\b\b\b\b\b\b\b\b\b\b\b\b\b\b\b\b\b\b\b\b\b\b\b\b\b\b\b\b\b\r12/12 [==============================] - 46s 4s/step - loss: 2.3823 - accuracy: 0.4068 - val_loss: 147.6521 - val_accuracy: 0.3400 - lr: 0.0010\n",
            "Epoch 87/100\n",
            "12/12 [==============================] - ETA: 0s - loss: 2.2973 - accuracy: 0.3475"
          ]
        },
        {
          "output_type": "stream",
          "name": "stderr",
          "text": [
            "WARNING:tensorflow:Learning rate reduction is conditioned on metric `val_acc` which is not available. Available metrics are: loss,accuracy,val_loss,val_accuracy,lr\n"
          ]
        },
        {
          "output_type": "stream",
          "name": "stdout",
          "text": [
            "\b\b\b\b\b\b\b\b\b\b\b\b\b\b\b\b\b\b\b\b\b\b\b\b\b\b\b\b\b\b\b\b\b\b\b\b\b\b\b\b\b\b\b\b\b\b\b\b\b\b\b\b\b\b\b\b\b\b\b\b\b\b\b\b\b\b\b\b\b\b\b\b\b\b\b\b\b\b\b\b\b\b\r12/12 [==============================] - 45s 4s/step - loss: 2.2973 - accuracy: 0.3475 - val_loss: 402.0864 - val_accuracy: 0.3400 - lr: 0.0010\n",
            "Epoch 88/100\n",
            "12/12 [==============================] - ETA: 0s - loss: 2.6906 - accuracy: 0.3220"
          ]
        },
        {
          "output_type": "stream",
          "name": "stderr",
          "text": [
            "WARNING:tensorflow:Learning rate reduction is conditioned on metric `val_acc` which is not available. Available metrics are: loss,accuracy,val_loss,val_accuracy,lr\n"
          ]
        },
        {
          "output_type": "stream",
          "name": "stdout",
          "text": [
            "\b\b\b\b\b\b\b\b\b\b\b\b\b\b\b\b\b\b\b\b\b\b\b\b\b\b\b\b\b\b\b\b\b\b\b\b\b\b\b\b\b\b\b\b\b\b\b\b\b\b\b\b\b\b\b\b\b\b\b\b\b\b\b\b\b\b\b\b\b\b\b\b\b\b\b\b\b\b\b\b\b\b\r12/12 [==============================] - 45s 4s/step - loss: 2.6906 - accuracy: 0.3220 - val_loss: 472.2115 - val_accuracy: 0.3400 - lr: 0.0010\n",
            "Epoch 89/100\n",
            "12/12 [==============================] - ETA: 0s - loss: 2.1001 - accuracy: 0.3729"
          ]
        },
        {
          "output_type": "stream",
          "name": "stderr",
          "text": [
            "WARNING:tensorflow:Learning rate reduction is conditioned on metric `val_acc` which is not available. Available metrics are: loss,accuracy,val_loss,val_accuracy,lr\n"
          ]
        },
        {
          "output_type": "stream",
          "name": "stdout",
          "text": [
            "\b\b\b\b\b\b\b\b\b\b\b\b\b\b\b\b\b\b\b\b\b\b\b\b\b\b\b\b\b\b\b\b\b\b\b\b\b\b\b\b\b\b\b\b\b\b\b\b\b\b\b\b\b\b\b\b\b\b\b\b\b\b\b\b\b\b\b\b\b\b\b\b\b\b\b\b\b\b\b\b\b\b\r12/12 [==============================] - 45s 4s/step - loss: 2.1001 - accuracy: 0.3729 - val_loss: 151.0708 - val_accuracy: 0.3200 - lr: 0.0010\n",
            "Epoch 90/100\n",
            "12/12 [==============================] - ETA: 0s - loss: 2.0724 - accuracy: 0.3842"
          ]
        },
        {
          "output_type": "stream",
          "name": "stderr",
          "text": [
            "WARNING:tensorflow:Learning rate reduction is conditioned on metric `val_acc` which is not available. Available metrics are: loss,accuracy,val_loss,val_accuracy,lr\n"
          ]
        },
        {
          "output_type": "stream",
          "name": "stdout",
          "text": [
            "\b\b\b\b\b\b\b\b\b\b\b\b\b\b\b\b\b\b\b\b\b\b\b\b\b\b\b\b\b\b\b\b\b\b\b\b\b\b\b\b\b\b\b\b\b\b\b\b\b\b\b\b\b\b\b\b\b\b\b\b\b\b\b\b\b\b\b\b\b\b\b\b\b\b\b\b\b\b\b\b\b\b\r12/12 [==============================] - 43s 4s/step - loss: 2.0724 - accuracy: 0.3842 - val_loss: 40.2964 - val_accuracy: 0.3200 - lr: 0.0010\n",
            "Epoch 91/100\n",
            "12/12 [==============================] - ETA: 0s - loss: 2.3306 - accuracy: 0.3672"
          ]
        },
        {
          "output_type": "stream",
          "name": "stderr",
          "text": [
            "WARNING:tensorflow:Learning rate reduction is conditioned on metric `val_acc` which is not available. Available metrics are: loss,accuracy,val_loss,val_accuracy,lr\n"
          ]
        },
        {
          "output_type": "stream",
          "name": "stdout",
          "text": [
            "\b\b\b\b\b\b\b\b\b\b\b\b\b\b\b\b\b\b\b\b\b\b\b\b\b\b\b\b\b\b\b\b\b\b\b\b\b\b\b\b\b\b\b\b\b\b\b\b\b\b\b\b\b\b\b\b\b\b\b\b\b\b\b\b\b\b\b\b\b\b\b\b\b\b\b\b\b\b\b\b\b\b\r12/12 [==============================] - 44s 4s/step - loss: 2.3306 - accuracy: 0.3672 - val_loss: 17.5728 - val_accuracy: 0.2800 - lr: 0.0010\n",
            "Epoch 92/100\n",
            "12/12 [==============================] - ETA: 0s - loss: 2.8844 - accuracy: 0.3757"
          ]
        },
        {
          "output_type": "stream",
          "name": "stderr",
          "text": [
            "WARNING:tensorflow:Learning rate reduction is conditioned on metric `val_acc` which is not available. Available metrics are: loss,accuracy,val_loss,val_accuracy,lr\n"
          ]
        },
        {
          "output_type": "stream",
          "name": "stdout",
          "text": [
            "\b\b\b\b\b\b\b\b\b\b\b\b\b\b\b\b\b\b\b\b\b\b\b\b\b\b\b\b\b\b\b\b\b\b\b\b\b\b\b\b\b\b\b\b\b\b\b\b\b\b\b\b\b\b\b\b\b\b\b\b\b\b\b\b\b\b\b\b\b\b\b\b\b\b\b\b\b\b\b\b\b\b\r12/12 [==============================] - 44s 4s/step - loss: 2.8844 - accuracy: 0.3757 - val_loss: 10.7207 - val_accuracy: 0.2800 - lr: 0.0010\n",
            "Epoch 93/100\n",
            "12/12 [==============================] - ETA: 0s - loss: 2.5293 - accuracy: 0.3588"
          ]
        },
        {
          "output_type": "stream",
          "name": "stderr",
          "text": [
            "WARNING:tensorflow:Learning rate reduction is conditioned on metric `val_acc` which is not available. Available metrics are: loss,accuracy,val_loss,val_accuracy,lr\n"
          ]
        },
        {
          "output_type": "stream",
          "name": "stdout",
          "text": [
            "\b\b\b\b\b\b\b\b\b\b\b\b\b\b\b\b\b\b\b\b\b\b\b\b\b\b\b\b\b\b\b\b\b\b\b\b\b\b\b\b\b\b\b\b\b\b\b\b\b\b\b\b\b\b\b\b\b\b\b\b\b\b\b\b\b\b\b\b\b\b\b\b\b\b\b\b\b\b\b\b\b\b\r12/12 [==============================] - 44s 4s/step - loss: 2.5293 - accuracy: 0.3588 - val_loss: 40.7220 - val_accuracy: 0.3400 - lr: 0.0010\n",
            "Epoch 94/100\n",
            "12/12 [==============================] - ETA: 0s - loss: 2.8459 - accuracy: 0.3588"
          ]
        },
        {
          "output_type": "stream",
          "name": "stderr",
          "text": [
            "WARNING:tensorflow:Learning rate reduction is conditioned on metric `val_acc` which is not available. Available metrics are: loss,accuracy,val_loss,val_accuracy,lr\n"
          ]
        },
        {
          "output_type": "stream",
          "name": "stdout",
          "text": [
            "\b\b\b\b\b\b\b\b\b\b\b\b\b\b\b\b\b\b\b\b\b\b\b\b\b\b\b\b\b\b\b\b\b\b\b\b\b\b\b\b\b\b\b\b\b\b\b\b\b\b\b\b\b\b\b\b\b\b\b\b\b\b\b\b\b\b\b\b\b\b\b\b\b\b\b\b\b\b\b\b\b\b\r12/12 [==============================] - 44s 4s/step - loss: 2.8459 - accuracy: 0.3588 - val_loss: 39.3347 - val_accuracy: 0.3800 - lr: 0.0010\n",
            "Epoch 95/100\n",
            "12/12 [==============================] - ETA: 0s - loss: 3.0009 - accuracy: 0.3559"
          ]
        },
        {
          "output_type": "stream",
          "name": "stderr",
          "text": [
            "WARNING:tensorflow:Learning rate reduction is conditioned on metric `val_acc` which is not available. Available metrics are: loss,accuracy,val_loss,val_accuracy,lr\n"
          ]
        },
        {
          "output_type": "stream",
          "name": "stdout",
          "text": [
            "\b\b\b\b\b\b\b\b\b\b\b\b\b\b\b\b\b\b\b\b\b\b\b\b\b\b\b\b\b\b\b\b\b\b\b\b\b\b\b\b\b\b\b\b\b\b\b\b\b\b\b\b\b\b\b\b\b\b\b\b\b\b\b\b\b\b\b\b\b\b\b\b\b\b\b\b\b\b\b\b\b\b\r12/12 [==============================] - 44s 4s/step - loss: 3.0009 - accuracy: 0.3559 - val_loss: 15.0518 - val_accuracy: 0.3400 - lr: 0.0010\n",
            "Epoch 96/100\n",
            "12/12 [==============================] - ETA: 0s - loss: 2.3153 - accuracy: 0.3898"
          ]
        },
        {
          "output_type": "stream",
          "name": "stderr",
          "text": [
            "WARNING:tensorflow:Learning rate reduction is conditioned on metric `val_acc` which is not available. Available metrics are: loss,accuracy,val_loss,val_accuracy,lr\n"
          ]
        },
        {
          "output_type": "stream",
          "name": "stdout",
          "text": [
            "\b\b\b\b\b\b\b\b\b\b\b\b\b\b\b\b\b\b\b\b\b\b\b\b\b\b\b\b\b\b\b\b\b\b\b\b\b\b\b\b\b\b\b\b\b\b\b\b\b\b\b\b\b\b\b\b\b\b\b\b\b\b\b\b\b\b\b\b\b\b\b\b\b\b\b\b\b\b\b\b\b\b\r12/12 [==============================] - 43s 4s/step - loss: 2.3153 - accuracy: 0.3898 - val_loss: 70.2895 - val_accuracy: 0.3400 - lr: 0.0010\n",
            "Epoch 97/100\n",
            "12/12 [==============================] - ETA: 0s - loss: 3.0525 - accuracy: 0.3701"
          ]
        },
        {
          "output_type": "stream",
          "name": "stderr",
          "text": [
            "WARNING:tensorflow:Learning rate reduction is conditioned on metric `val_acc` which is not available. Available metrics are: loss,accuracy,val_loss,val_accuracy,lr\n"
          ]
        },
        {
          "output_type": "stream",
          "name": "stdout",
          "text": [
            "\b\b\b\b\b\b\b\b\b\b\b\b\b\b\b\b\b\b\b\b\b\b\b\b\b\b\b\b\b\b\b\b\b\b\b\b\b\b\b\b\b\b\b\b\b\b\b\b\b\b\b\b\b\b\b\b\b\b\b\b\b\b\b\b\b\b\b\b\b\b\b\b\b\b\b\b\b\b\b\b\b\b\r12/12 [==============================] - 44s 4s/step - loss: 3.0525 - accuracy: 0.3701 - val_loss: 49.5701 - val_accuracy: 0.4200 - lr: 0.0010\n",
            "Epoch 98/100\n",
            "12/12 [==============================] - ETA: 0s - loss: 3.0437 - accuracy: 0.3362"
          ]
        },
        {
          "output_type": "stream",
          "name": "stderr",
          "text": [
            "WARNING:tensorflow:Learning rate reduction is conditioned on metric `val_acc` which is not available. Available metrics are: loss,accuracy,val_loss,val_accuracy,lr\n"
          ]
        },
        {
          "output_type": "stream",
          "name": "stdout",
          "text": [
            "\b\b\b\b\b\b\b\b\b\b\b\b\b\b\b\b\b\b\b\b\b\b\b\b\b\b\b\b\b\b\b\b\b\b\b\b\b\b\b\b\b\b\b\b\b\b\b\b\b\b\b\b\b\b\b\b\b\b\b\b\b\b\b\b\b\b\b\b\b\b\b\b\b\b\b\b\b\b\b\b\b\b\r12/12 [==============================] - 42s 4s/step - loss: 3.0437 - accuracy: 0.3362 - val_loss: 63.4057 - val_accuracy: 0.3200 - lr: 0.0010\n",
            "Epoch 99/100\n",
            "12/12 [==============================] - ETA: 0s - loss: 1.8102 - accuracy: 0.3842"
          ]
        },
        {
          "output_type": "stream",
          "name": "stderr",
          "text": [
            "WARNING:tensorflow:Learning rate reduction is conditioned on metric `val_acc` which is not available. Available metrics are: loss,accuracy,val_loss,val_accuracy,lr\n"
          ]
        },
        {
          "output_type": "stream",
          "name": "stdout",
          "text": [
            "\b\b\b\b\b\b\b\b\b\b\b\b\b\b\b\b\b\b\b\b\b\b\b\b\b\b\b\b\b\b\b\b\b\b\b\b\b\b\b\b\b\b\b\b\b\b\b\b\b\b\b\b\b\b\b\b\b\b\b\b\b\b\b\b\b\b\b\b\b\b\b\b\b\b\b\b\b\b\b\b\b\b\r12/12 [==============================] - 45s 4s/step - loss: 1.8102 - accuracy: 0.3842 - val_loss: 13.3376 - val_accuracy: 0.3200 - lr: 0.0010\n",
            "Epoch 100/100\n",
            "12/12 [==============================] - ETA: 0s - loss: 2.2853 - accuracy: 0.3672"
          ]
        },
        {
          "output_type": "stream",
          "name": "stderr",
          "text": [
            "WARNING:tensorflow:Learning rate reduction is conditioned on metric `val_acc` which is not available. Available metrics are: loss,accuracy,val_loss,val_accuracy,lr\n"
          ]
        },
        {
          "output_type": "stream",
          "name": "stdout",
          "text": [
            "\b\b\b\b\b\b\b\b\b\b\b\b\b\b\b\b\b\b\b\b\b\b\b\b\b\b\b\b\b\b\b\b\b\b\b\b\b\b\b\b\b\b\b\b\b\b\b\b\b\b\b\b\b\b\b\b\b\b\b\b\b\b\b\b\b\b\b\b\b\b\b\b\b\b\b\b\b\b\b\b\b\b\r12/12 [==============================] - 45s 4s/step - loss: 2.2853 - accuracy: 0.3672 - val_loss: 352.9584 - val_accuracy: 0.3400 - lr: 0.0010\n",
            "3/3 - 4s - loss: 217.1839 - accuracy: 0.4045 - 4s/epoch - 1s/step\n",
            "\n",
            "Val accuracy: 0.40449437499046326\n",
            "Val loss: 217.18385314941406\n",
            "12/12 - 21s - loss: 215.3431 - accuracy: 0.3955 - 21s/epoch - 2s/step\n",
            "\n",
            "Train accuracy: 0.395480215549469\n",
            "Train loss: 215.3430938720703\n",
            "3/3 [==============================] - 7s 1s/step\n"
          ]
        },
        {
          "output_type": "stream",
          "name": "stderr",
          "text": [
            "/usr/local/lib/python3.10/dist-packages/sklearn/metrics/_classification.py:1344: UndefinedMetricWarning: Precision and F-score are ill-defined and being set to 0.0 in labels with no predicted samples. Use `zero_division` parameter to control this behavior.\n",
            "  _warn_prf(average, modifier, msg_start, len(result))\n",
            "/usr/local/lib/python3.10/dist-packages/sklearn/metrics/_classification.py:1344: UndefinedMetricWarning: Precision and F-score are ill-defined and being set to 0.0 in labels with no predicted samples. Use `zero_division` parameter to control this behavior.\n",
            "  _warn_prf(average, modifier, msg_start, len(result))\n",
            "/usr/local/lib/python3.10/dist-packages/sklearn/metrics/_classification.py:1344: UndefinedMetricWarning: Precision and F-score are ill-defined and being set to 0.0 in labels with no predicted samples. Use `zero_division` parameter to control this behavior.\n",
            "  _warn_prf(average, modifier, msg_start, len(result))\n"
          ]
        },
        {
          "output_type": "stream",
          "name": "stdout",
          "text": [
            "              precision    recall  f1-score   support\n",
            "\n",
            "           0       0.00      0.00      0.00         9\n",
            "           1       0.00      0.00      0.00        20\n",
            "           2       0.00      0.00      0.00        20\n",
            "           3       0.00      0.00      0.00         4\n",
            "           4       0.40      1.00      0.58        36\n",
            "\n",
            "    accuracy                           0.40        89\n",
            "   macro avg       0.08      0.20      0.12        89\n",
            "weighted avg       0.16      0.40      0.23        89\n",
            "\n",
            "[[ 0  0  0  0  9]\n",
            " [ 0  0  0  0 20]\n",
            " [ 0  0  0  0 20]\n",
            " [ 0  0  0  0  4]\n",
            " [ 0  0  0  0 36]]\n"
          ]
        },
        {
          "output_type": "display_data",
          "data": {
            "text/plain": [
              "<Figure size 640x480 with 1 Axes>"
            ],
            "image/png": "[encoded data removed]"
          },
          "metadata": {}
        },
        {
          "output_type": "display_data",
          "data": {
            "text/plain": [
              "<Figure size 640x480 with 1 Axes>"
            ],
            "image/png": "[encoded data removed]"
          },
          "metadata": {}
        },
        {
          "output_type": "stream",
          "name": "stdout",
          "text": [
            "AUC: 0.6373926447800887\n"
          ]
        },
        {
          "output_type": "display_data",
          "data": {
            "text/plain": [
              "<Figure size 640x480 with 2 Axes>"
            ],
            "image/png": "[encoded data removed]"
          },
          "metadata": {}
        }
      ]
    },
    {
      "cell_type": "code",
      "source": [],
      "metadata": {
        "id": "rWb5PEvLXKz-"
      },
      "execution_count": null,
      "outputs": []
    }
  ]
}